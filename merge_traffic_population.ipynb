{
 "cells": [
  {
   "cell_type": "code",
   "execution_count": 8,
   "id": "d2123132",
   "metadata": {},
   "outputs": [],
   "source": [
    "import pandas as pd"
   ]
  },
  {
   "cell_type": "code",
   "execution_count": 9,
   "id": "bb968ceb",
   "metadata": {},
   "outputs": [],
   "source": [
    "traffic_data = pd.read_csv(\"data/merged_traffic_weather_2024.csv\")\n",
    "population_data = pd.read_csv(\"data/district_population_rail.csv\")"
   ]
  },
  {
   "cell_type": "code",
   "execution_count": 10,
   "id": "28e5d929",
   "metadata": {},
   "outputs": [
    {
     "data": {
      "text/html": [
       "<div>\n",
       "<style scoped>\n",
       "    .dataframe tbody tr th:only-of-type {\n",
       "        vertical-align: middle;\n",
       "    }\n",
       "\n",
       "    .dataframe tbody tr th {\n",
       "        vertical-align: top;\n",
       "    }\n",
       "\n",
       "    .dataframe thead th {\n",
       "        text-align: right;\n",
       "    }\n",
       "</style>\n",
       "<table border=\"1\" class=\"dataframe\">\n",
       "  <thead>\n",
       "    <tr style=\"text-align: right;\">\n",
       "      <th></th>\n",
       "      <th>DATE</th>\n",
       "      <th>DISTRICT</th>\n",
       "      <th>congestion</th>\n",
       "      <th>weather_condition</th>\n",
       "    </tr>\n",
       "  </thead>\n",
       "  <tbody>\n",
       "    <tr>\n",
       "      <th>0</th>\n",
       "      <td>2024-01-01</td>\n",
       "      <td>33</td>\n",
       "      <td>0.516</td>\n",
       "      <td>1</td>\n",
       "    </tr>\n",
       "    <tr>\n",
       "      <th>1</th>\n",
       "      <td>2024-01-01</td>\n",
       "      <td>33</td>\n",
       "      <td>0.391</td>\n",
       "      <td>1</td>\n",
       "    </tr>\n",
       "    <tr>\n",
       "      <th>2</th>\n",
       "      <td>2024-01-01</td>\n",
       "      <td>33</td>\n",
       "      <td>0.398</td>\n",
       "      <td>1</td>\n",
       "    </tr>\n",
       "    <tr>\n",
       "      <th>3</th>\n",
       "      <td>2024-01-01</td>\n",
       "      <td>33</td>\n",
       "      <td>0.279</td>\n",
       "      <td>1</td>\n",
       "    </tr>\n",
       "    <tr>\n",
       "      <th>4</th>\n",
       "      <td>2024-01-01</td>\n",
       "      <td>33</td>\n",
       "      <td>0.396</td>\n",
       "      <td>1</td>\n",
       "    </tr>\n",
       "  </tbody>\n",
       "</table>\n",
       "</div>"
      ],
      "text/plain": [
       "         DATE  DISTRICT  congestion  weather_condition\n",
       "0  2024-01-01        33       0.516                  1\n",
       "1  2024-01-01        33       0.391                  1\n",
       "2  2024-01-01        33       0.398                  1\n",
       "3  2024-01-01        33       0.279                  1\n",
       "4  2024-01-01        33       0.396                  1"
      ]
     },
     "execution_count": 10,
     "metadata": {},
     "output_type": "execute_result"
    }
   ],
   "source": [
    "traffic_data.head()"
   ]
  },
  {
   "cell_type": "code",
   "execution_count": 11,
   "id": "67b045b2",
   "metadata": {},
   "outputs": [
    {
     "data": {
      "text/html": [
       "<div>\n",
       "<style scoped>\n",
       "    .dataframe tbody tr th:only-of-type {\n",
       "        vertical-align: middle;\n",
       "    }\n",
       "\n",
       "    .dataframe tbody tr th {\n",
       "        vertical-align: top;\n",
       "    }\n",
       "\n",
       "    .dataframe thead th {\n",
       "        text-align: right;\n",
       "    }\n",
       "</style>\n",
       "<table border=\"1\" class=\"dataframe\">\n",
       "  <thead>\n",
       "    <tr style=\"text-align: right;\">\n",
       "      <th></th>\n",
       "      <th>Year</th>\n",
       "      <th>District</th>\n",
       "      <th>Total</th>\n",
       "      <th>Number of Railway Stations</th>\n",
       "      <th>Number of Bus Stations</th>\n",
       "    </tr>\n",
       "  </thead>\n",
       "  <tbody>\n",
       "    <tr>\n",
       "      <th>0</th>\n",
       "      <td>2024</td>\n",
       "      <td>17</td>\n",
       "      <td>988369</td>\n",
       "      <td>25</td>\n",
       "      <td>547</td>\n",
       "    </tr>\n",
       "    <tr>\n",
       "      <th>1</th>\n",
       "      <td>2024</td>\n",
       "      <td>25</td>\n",
       "      <td>789033</td>\n",
       "      <td>10</td>\n",
       "      <td>515</td>\n",
       "    </tr>\n",
       "    <tr>\n",
       "      <th>2</th>\n",
       "      <td>2024</td>\n",
       "      <td>27</td>\n",
       "      <td>749356</td>\n",
       "      <td>6</td>\n",
       "      <td>404</td>\n",
       "    </tr>\n",
       "    <tr>\n",
       "      <th>3</th>\n",
       "      <td>2024</td>\n",
       "      <td>36</td>\n",
       "      <td>727819</td>\n",
       "      <td>8</td>\n",
       "      <td>139</td>\n",
       "    </tr>\n",
       "    <tr>\n",
       "      <th>4</th>\n",
       "      <td>2024</td>\n",
       "      <td>4</td>\n",
       "      <td>713594</td>\n",
       "      <td>17</td>\n",
       "      <td>303</td>\n",
       "    </tr>\n",
       "  </tbody>\n",
       "</table>\n",
       "</div>"
      ],
      "text/plain": [
       "   Year  District   Total  Number of Railway Stations  Number of Bus Stations\n",
       "0  2024        17  988369                          25                     547\n",
       "1  2024        25  789033                          10                     515\n",
       "2  2024        27  749356                           6                     404\n",
       "3  2024        36  727819                           8                     139\n",
       "4  2024         4  713594                          17                     303"
      ]
     },
     "execution_count": 11,
     "metadata": {},
     "output_type": "execute_result"
    }
   ],
   "source": [
    "population_data.head()"
   ]
  },
  {
   "cell_type": "code",
   "execution_count": 12,
   "id": "830ebd73",
   "metadata": {},
   "outputs": [
    {
     "data": {
      "text/plain": [
       "Year                          0\n",
       "District                      0\n",
       "Total                         0\n",
       "Number of Railway Stations    0\n",
       "Number of Bus Stations        0\n",
       "dtype: int64"
      ]
     },
     "execution_count": 12,
     "metadata": {},
     "output_type": "execute_result"
    }
   ],
   "source": [
    "population_data.isna().sum()"
   ]
  },
  {
   "cell_type": "code",
   "execution_count": 13,
   "id": "667a5223",
   "metadata": {},
   "outputs": [],
   "source": [
    "population_data = population_data.dropna(subset=[\"District\"])\n",
    "population_data[\"District\"] = population_data[\"District\"].astype(int)"
   ]
  },
  {
   "cell_type": "code",
   "execution_count": 14,
   "id": "ae6c9f83",
   "metadata": {},
   "outputs": [],
   "source": [
    "district_info = population_data.set_index(\"District\").to_dict(orient=\"index\")\n",
    "\n",
    "traffic_data[\"population\"] = traffic_data[\"DISTRICT\"].map(lambda x: district_info.get(x, {}).get(\"Total\"))\n",
    "traffic_data[\"railway_stations\"] = traffic_data[\"DISTRICT\"].map(lambda x: district_info.get(x, {}).get(\"Number of Railway Stations\"))\n",
    "traffic_data[\"bus_stations\"] = traffic_data[\"DISTRICT\"].map(lambda x: district_info.get(x, {}).get(\"Number of Bus Stations\"))"
   ]
  },
  {
   "cell_type": "code",
   "execution_count": null,
   "id": "59cf6bae",
   "metadata": {},
   "outputs": [],
   "source": []
  }
 ],
 "metadata": {
  "kernelspec": {
   "display_name": "base",
   "language": "python",
   "name": "python3"
  },
  "language_info": {
   "codemirror_mode": {
    "name": "ipython",
    "version": 3
   },
   "file_extension": ".py",
   "mimetype": "text/x-python",
   "name": "python",
   "nbconvert_exporter": "python",
   "pygments_lexer": "ipython3",
   "version": "3.12.3"
  }
 },
 "nbformat": 4,
 "nbformat_minor": 5
}

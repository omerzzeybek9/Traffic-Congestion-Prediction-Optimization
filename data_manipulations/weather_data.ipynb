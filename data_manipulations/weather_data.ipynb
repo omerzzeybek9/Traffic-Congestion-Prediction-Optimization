{
 "cells": [
  {
   "cell_type": "code",
   "execution_count": null,
   "metadata": {},
   "outputs": [],
   "source": [
    "import pandas as pd\n",
    "import geopandas as gpd"
   ]
  },
  {
   "cell_type": "code",
   "execution_count": null,
   "metadata": {},
   "outputs": [],
   "source": [
    "weather = pd.read_csv(\"../original_data/weather_data.csv\")"
   ]
  },
  {
   "cell_type": "code",
   "execution_count": null,
   "metadata": {},
   "outputs": [
    {
     "data": {
      "text/html": [
       "<div>\n",
       "<style scoped>\n",
       "    .dataframe tbody tr th:only-of-type {\n",
       "        vertical-align: middle;\n",
       "    }\n",
       "\n",
       "    .dataframe tbody tr th {\n",
       "        vertical-align: top;\n",
       "    }\n",
       "\n",
       "    .dataframe thead th {\n",
       "        text-align: right;\n",
       "    }\n",
       "</style>\n",
       "<table border=\"1\" class=\"dataframe\">\n",
       "  <thead>\n",
       "    <tr style=\"text-align: right;\">\n",
       "      <th></th>\n",
       "      <th>name</th>\n",
       "      <th>datetime</th>\n",
       "      <th>tempmax</th>\n",
       "      <th>tempmin</th>\n",
       "      <th>temp</th>\n",
       "      <th>feelslikemax</th>\n",
       "      <th>feelslikemin</th>\n",
       "      <th>feelslike</th>\n",
       "      <th>dew</th>\n",
       "      <th>humidity</th>\n",
       "      <th>...</th>\n",
       "      <th>solarenergy</th>\n",
       "      <th>uvindex</th>\n",
       "      <th>severerisk</th>\n",
       "      <th>sunrise</th>\n",
       "      <th>sunset</th>\n",
       "      <th>moonphase</th>\n",
       "      <th>conditions</th>\n",
       "      <th>description</th>\n",
       "      <th>icon</th>\n",
       "      <th>stations</th>\n",
       "    </tr>\n",
       "  </thead>\n",
       "  <tbody>\n",
       "    <tr>\n",
       "      <th>0</th>\n",
       "      <td>İstanbul, Türkiye</td>\n",
       "      <td>2020-01-01</td>\n",
       "      <td>46.7</td>\n",
       "      <td>40.2</td>\n",
       "      <td>43.4</td>\n",
       "      <td>42.6</td>\n",
       "      <td>33.9</td>\n",
       "      <td>39.3</td>\n",
       "      <td>35.8</td>\n",
       "      <td>74.7</td>\n",
       "      <td>...</td>\n",
       "      <td>3.6</td>\n",
       "      <td>2.0</td>\n",
       "      <td>NaN</td>\n",
       "      <td>2020-01-01T08:29:11</td>\n",
       "      <td>2020-01-01T17:45:38</td>\n",
       "      <td>0.20</td>\n",
       "      <td>Rain, Partially cloudy</td>\n",
       "      <td>Partly cloudy throughout the day with rain in ...</td>\n",
       "      <td>rain</td>\n",
       "      <td>LTBA,17063099999,17119099999,17061099999,17064...</td>\n",
       "    </tr>\n",
       "    <tr>\n",
       "      <th>1</th>\n",
       "      <td>İstanbul, Türkiye</td>\n",
       "      <td>2020-01-02</td>\n",
       "      <td>43.4</td>\n",
       "      <td>39.6</td>\n",
       "      <td>41.7</td>\n",
       "      <td>37.1</td>\n",
       "      <td>32.7</td>\n",
       "      <td>34.7</td>\n",
       "      <td>36.9</td>\n",
       "      <td>83.2</td>\n",
       "      <td>...</td>\n",
       "      <td>6.0</td>\n",
       "      <td>3.0</td>\n",
       "      <td>NaN</td>\n",
       "      <td>2020-01-02T08:29:18</td>\n",
       "      <td>2020-01-02T17:46:28</td>\n",
       "      <td>0.23</td>\n",
       "      <td>Rain, Partially cloudy</td>\n",
       "      <td>Partly cloudy throughout the day with a chance...</td>\n",
       "      <td>rain</td>\n",
       "      <td>LTBA,17063099999,17119099999,17061099999,17064...</td>\n",
       "    </tr>\n",
       "    <tr>\n",
       "      <th>2</th>\n",
       "      <td>İstanbul, Türkiye</td>\n",
       "      <td>2020-01-03</td>\n",
       "      <td>45.1</td>\n",
       "      <td>40.3</td>\n",
       "      <td>42.4</td>\n",
       "      <td>41.8</td>\n",
       "      <td>36.0</td>\n",
       "      <td>39.1</td>\n",
       "      <td>36.5</td>\n",
       "      <td>79.8</td>\n",
       "      <td>...</td>\n",
       "      <td>4.5</td>\n",
       "      <td>2.0</td>\n",
       "      <td>NaN</td>\n",
       "      <td>2020-01-03T08:29:22</td>\n",
       "      <td>2020-01-03T17:47:20</td>\n",
       "      <td>0.25</td>\n",
       "      <td>Rain, Partially cloudy</td>\n",
       "      <td>Partly cloudy throughout the day with a chance...</td>\n",
       "      <td>rain</td>\n",
       "      <td>D8508,LTBA,17063099999,17119099999,17061099999...</td>\n",
       "    </tr>\n",
       "    <tr>\n",
       "      <th>3</th>\n",
       "      <td>İstanbul, Türkiye</td>\n",
       "      <td>2020-01-04</td>\n",
       "      <td>50.1</td>\n",
       "      <td>41.3</td>\n",
       "      <td>44.9</td>\n",
       "      <td>50.1</td>\n",
       "      <td>38.7</td>\n",
       "      <td>43.1</td>\n",
       "      <td>33.9</td>\n",
       "      <td>65.5</td>\n",
       "      <td>...</td>\n",
       "      <td>4.0</td>\n",
       "      <td>3.0</td>\n",
       "      <td>NaN</td>\n",
       "      <td>2020-01-04T08:29:24</td>\n",
       "      <td>2020-01-04T17:48:14</td>\n",
       "      <td>0.29</td>\n",
       "      <td>Partially cloudy</td>\n",
       "      <td>Partly cloudy throughout the day.</td>\n",
       "      <td>partly-cloudy-day</td>\n",
       "      <td>D8508,LTBA,17063099999,17119099999,17061099999...</td>\n",
       "    </tr>\n",
       "    <tr>\n",
       "      <th>4</th>\n",
       "      <td>İstanbul, Türkiye</td>\n",
       "      <td>2020-01-05</td>\n",
       "      <td>48.3</td>\n",
       "      <td>42.2</td>\n",
       "      <td>44.2</td>\n",
       "      <td>47.7</td>\n",
       "      <td>35.9</td>\n",
       "      <td>40.8</td>\n",
       "      <td>38.1</td>\n",
       "      <td>79.2</td>\n",
       "      <td>...</td>\n",
       "      <td>2.1</td>\n",
       "      <td>2.0</td>\n",
       "      <td>NaN</td>\n",
       "      <td>2020-01-05T08:29:24</td>\n",
       "      <td>2020-01-05T17:49:09</td>\n",
       "      <td>0.33</td>\n",
       "      <td>Rain, Partially cloudy</td>\n",
       "      <td>Partly cloudy throughout the day with rain.</td>\n",
       "      <td>rain</td>\n",
       "      <td>D8508,LTBA,17063099999,17119099999,17061099999...</td>\n",
       "    </tr>\n",
       "  </tbody>\n",
       "</table>\n",
       "<p>5 rows × 33 columns</p>\n",
       "</div>"
      ],
      "text/plain": [
       "                name    datetime  tempmax  tempmin  temp  feelslikemax  \\\n",
       "0  İstanbul, Türkiye  2020-01-01     46.7     40.2  43.4          42.6   \n",
       "1  İstanbul, Türkiye  2020-01-02     43.4     39.6  41.7          37.1   \n",
       "2  İstanbul, Türkiye  2020-01-03     45.1     40.3  42.4          41.8   \n",
       "3  İstanbul, Türkiye  2020-01-04     50.1     41.3  44.9          50.1   \n",
       "4  İstanbul, Türkiye  2020-01-05     48.3     42.2  44.2          47.7   \n",
       "\n",
       "   feelslikemin  feelslike   dew  humidity  ...  solarenergy  uvindex  \\\n",
       "0          33.9       39.3  35.8      74.7  ...          3.6      2.0   \n",
       "1          32.7       34.7  36.9      83.2  ...          6.0      3.0   \n",
       "2          36.0       39.1  36.5      79.8  ...          4.5      2.0   \n",
       "3          38.7       43.1  33.9      65.5  ...          4.0      3.0   \n",
       "4          35.9       40.8  38.1      79.2  ...          2.1      2.0   \n",
       "\n",
       "   severerisk              sunrise               sunset  moonphase  \\\n",
       "0         NaN  2020-01-01T08:29:11  2020-01-01T17:45:38       0.20   \n",
       "1         NaN  2020-01-02T08:29:18  2020-01-02T17:46:28       0.23   \n",
       "2         NaN  2020-01-03T08:29:22  2020-01-03T17:47:20       0.25   \n",
       "3         NaN  2020-01-04T08:29:24  2020-01-04T17:48:14       0.29   \n",
       "4         NaN  2020-01-05T08:29:24  2020-01-05T17:49:09       0.33   \n",
       "\n",
       "               conditions                                        description  \\\n",
       "0  Rain, Partially cloudy  Partly cloudy throughout the day with rain in ...   \n",
       "1  Rain, Partially cloudy  Partly cloudy throughout the day with a chance...   \n",
       "2  Rain, Partially cloudy  Partly cloudy throughout the day with a chance...   \n",
       "3        Partially cloudy                  Partly cloudy throughout the day.   \n",
       "4  Rain, Partially cloudy        Partly cloudy throughout the day with rain.   \n",
       "\n",
       "                icon                                           stations  \n",
       "0               rain  LTBA,17063099999,17119099999,17061099999,17064...  \n",
       "1               rain  LTBA,17063099999,17119099999,17061099999,17064...  \n",
       "2               rain  D8508,LTBA,17063099999,17119099999,17061099999...  \n",
       "3  partly-cloudy-day  D8508,LTBA,17063099999,17119099999,17061099999...  \n",
       "4               rain  D8508,LTBA,17063099999,17119099999,17061099999...  \n",
       "\n",
       "[5 rows x 33 columns]"
      ]
     },
     "metadata": {},
     "output_type": "display_data"
    }
   ],
   "source": [
    "weather.head()"
   ]
  },
  {
   "cell_type": "code",
   "execution_count": null,
   "metadata": {},
   "outputs": [
    {
     "data": {
      "text/plain": [
       "name                  0\n",
       "datetime              0\n",
       "tempmax               0\n",
       "tempmin               0\n",
       "temp                  0\n",
       "feelslikemax          0\n",
       "feelslikemin          0\n",
       "feelslike             0\n",
       "dew                   0\n",
       "humidity              0\n",
       "precip                0\n",
       "precipprob            0\n",
       "precipcover           0\n",
       "preciptype          929\n",
       "snow                  1\n",
       "snowdepth             9\n",
       "windgust              0\n",
       "windspeed             0\n",
       "winddir               0\n",
       "sealevelpressure      0\n",
       "cloudcover            0\n",
       "visibility            0\n",
       "solarradiation        1\n",
       "solarenergy           1\n",
       "uvindex               1\n",
       "severerisk          741\n",
       "sunrise               0\n",
       "sunset                0\n",
       "moonphase             0\n",
       "conditions            0\n",
       "description           1\n",
       "icon                  0\n",
       "stations             15\n",
       "dtype: int64"
      ]
     },
     "metadata": {},
     "output_type": "display_data"
    }
   ],
   "source": [
    "weather.isna().sum()"
   ]
  },
  {
   "cell_type": "code",
   "execution_count": null,
   "metadata": {},
   "outputs": [
    {
     "data": {
      "text/plain": [
       "preciptype\n",
       "rain         966\n",
       "rain,snow     55\n",
       "snow           2\n",
       "Name: count, dtype: int64"
      ]
     },
     "metadata": {},
     "output_type": "display_data"
    }
   ],
   "source": [
    "weather[\"preciptype\"].value_counts()"
   ]
  },
  {
   "cell_type": "code",
   "execution_count": null,
   "metadata": {},
   "outputs": [
    {
     "data": {
      "text/plain": [
       "icon\n",
       "rain                 909\n",
       "partly-cloudy-day    696\n",
       "clear-day            312\n",
       "snow                  32\n",
       "cloudy                 3\n",
       "Name: count, dtype: int64"
      ]
     },
     "metadata": {},
     "output_type": "display_data"
    }
   ],
   "source": [
    "weather[\"icon\"].value_counts()"
   ]
  },
  {
   "cell_type": "code",
   "execution_count": null,
   "metadata": {},
   "outputs": [
    {
     "data": {
      "text/plain": [
       "preciptype\n",
       "rain    3\n",
       "Name: count, dtype: int64"
      ]
     },
     "metadata": {},
     "output_type": "display_data"
    }
   ],
   "source": [
    "weather[weather[\"icon\"] == \"cloudy\"][\"preciptype\"].value_counts()"
   ]
  },
  {
   "cell_type": "code",
   "execution_count": null,
   "metadata": {},
   "outputs": [
    {
     "data": {
      "text/plain": [
       "icon\n",
       "snow    31\n",
       "rain    24\n",
       "Name: count, dtype: int64"
      ]
     },
     "metadata": {},
     "output_type": "display_data"
    }
   ],
   "source": [
    "weather[weather[\"preciptype\"] == \"rain,snow\"][\"icon\"].value_counts()"
   ]
  },
  {
   "cell_type": "code",
   "execution_count": null,
   "metadata": {},
   "outputs": [
    {
     "data": {
      "text/plain": [
       "icon\n",
       "rain                 909\n",
       "partly-cloudy-day    696\n",
       "clear-day            312\n",
       "snow                  32\n",
       "cloudy                 3\n",
       "Name: count, dtype: int64"
      ]
     },
     "metadata": {},
     "output_type": "display_data"
    }
   ],
   "source": [
    "weather[\"icon\"].value_counts()"
   ]
  },
  {
   "cell_type": "code",
   "execution_count": null,
   "metadata": {},
   "outputs": [],
   "source": [
    "#Conver precitype to numerical 0 to 4 based on the icon\n",
    "def convert_preciptype(icon):\n",
    "    if icon == \"clear-day\":\n",
    "        return 0\n",
    "    elif icon == \"partly-cloudy-day\":\n",
    "        return 1\n",
    "    elif icon == \"snow\":\n",
    "        return 3\n",
    "    elif icon == \"cloudy\" or \"rain\":\n",
    "        return 2\n",
    "    else:\n",
    "        return None\n",
    "#Apply the function to the preciptype column\n",
    "weather[\"preciptype\"] = weather[\"icon\"].apply(convert_preciptype)"
   ]
  },
  {
   "cell_type": "code",
   "execution_count": null,
   "metadata": {},
   "outputs": [
    {
     "data": {
      "text/plain": [
       "preciptype\n",
       "2    912\n",
       "1    696\n",
       "0    312\n",
       "3     32\n",
       "Name: count, dtype: int64"
      ]
     },
     "metadata": {},
     "output_type": "display_data"
    }
   ],
   "source": [
    "weather[\"preciptype\"].value_counts()"
   ]
  },
  {
   "cell_type": "code",
   "execution_count": null,
   "metadata": {},
   "outputs": [
    {
     "data": {
      "text/plain": [
       "name                  0\n",
       "datetime              0\n",
       "tempmax               0\n",
       "tempmin               0\n",
       "temp                  0\n",
       "feelslikemax          0\n",
       "feelslikemin          0\n",
       "feelslike             0\n",
       "dew                   0\n",
       "humidity              0\n",
       "precip                0\n",
       "precipprob            0\n",
       "precipcover           0\n",
       "preciptype            0\n",
       "snow                  1\n",
       "snowdepth             9\n",
       "windgust              0\n",
       "windspeed             0\n",
       "winddir               0\n",
       "sealevelpressure      0\n",
       "cloudcover            0\n",
       "visibility            0\n",
       "solarradiation        1\n",
       "solarenergy           1\n",
       "uvindex               1\n",
       "severerisk          741\n",
       "sunrise               0\n",
       "sunset                0\n",
       "moonphase             0\n",
       "conditions            0\n",
       "description           1\n",
       "icon                  0\n",
       "stations             15\n",
       "dtype: int64"
      ]
     },
     "metadata": {},
     "output_type": "display_data"
    }
   ],
   "source": [
    "weather.isna().sum()"
   ]
  },
  {
   "cell_type": "code",
   "execution_count": null,
   "metadata": {},
   "outputs": [
    {
     "data": {
      "text/plain": [
       "severerisk\n",
       "10.0    1133\n",
       "30.0      47\n",
       "5.0       12\n",
       "60.0      10\n",
       "15.0       7\n",
       "8.0        2\n",
       "Name: count, dtype: int64"
      ]
     },
     "metadata": {},
     "output_type": "display_data"
    }
   ],
   "source": [
    "weather[\"severerisk\"].value_counts()"
   ]
  },
  {
   "cell_type": "code",
   "execution_count": null,
   "metadata": {},
   "outputs": [
    {
     "name": "stderr",
     "output_type": "stream",
     "text": [
      "C:\\Users\\omerf\\AppData\\Local\\Temp\\ipykernel_16340\\1211511254.py:2: SettingWithCopyWarning: \n",
      "A value is trying to be set on a copy of a slice from a DataFrame\n",
      "\n",
      "See the caveats in the documentation: https://pandas.pydata.org/pandas-docs/stable/user_guide/indexing.html#returning-a-view-versus-a-copy\n",
      "  weather_new.rename(columns={\"datetime\": \"date\", \"preciptype\" : \"weather condition\"}, inplace=True)\n"
     ]
    }
   ],
   "source": [
    "weather_new = weather[[\"datetime\", \"preciptype\"]] \n",
    "weather_new.rename(columns={\"datetime\": \"date\", \"preciptype\" : \"weather condition\"}, inplace=True)"
   ]
  },
  {
   "cell_type": "code",
   "execution_count": null,
   "metadata": {},
   "outputs": [],
   "source": [
    "weather_new.to_csv(\"../data/weather_data_cleaned.csv\", index=False)"
   ]
  }
 ],
 "metadata": {
  "language_info": {
   "name": "python"
  }
 },
 "nbformat": 4,
 "nbformat_minor": 2
}

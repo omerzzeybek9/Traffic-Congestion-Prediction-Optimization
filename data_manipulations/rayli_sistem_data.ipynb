{
 "cells": [
  {
   "cell_type": "code",
   "execution_count": 1,
   "id": "f4f15d52",
   "metadata": {},
   "outputs": [],
   "source": [
    "import pandas as pd\n",
    "import geopandas as gpd"
   ]
  },
  {
   "cell_type": "code",
   "execution_count": 2,
   "id": "97a01a88",
   "metadata": {},
   "outputs": [],
   "source": [
    "gdf = gpd.read_file(\"../original_data/rayli_sistem_istasyon_poi_verisi.geojson\")"
   ]
  },
  {
   "cell_type": "code",
   "execution_count": 3,
   "id": "8718d749",
   "metadata": {},
   "outputs": [
    {
     "data": {
      "text/html": [
       "<div>\n",
       "<style scoped>\n",
       "    .dataframe tbody tr th:only-of-type {\n",
       "        vertical-align: middle;\n",
       "    }\n",
       "\n",
       "    .dataframe tbody tr th {\n",
       "        vertical-align: top;\n",
       "    }\n",
       "\n",
       "    .dataframe thead th {\n",
       "        text-align: right;\n",
       "    }\n",
       "</style>\n",
       "<table border=\"1\" class=\"dataframe\">\n",
       "  <thead>\n",
       "    <tr style=\"text-align: right;\">\n",
       "      <th></th>\n",
       "      <th>ISTASYON</th>\n",
       "      <th>PROJE_ADI</th>\n",
       "      <th>PROJE_ASAMA</th>\n",
       "      <th>HAT_TURU</th>\n",
       "      <th>MUDURLUK</th>\n",
       "      <th>geometry</th>\n",
       "    </tr>\n",
       "  </thead>\n",
       "  <tbody>\n",
       "    <tr>\n",
       "      <th>0</th>\n",
       "      <td>Mehmet Akif</td>\n",
       "      <td>T1 Kabataş - Bağcılar Tramvay Hattı</td>\n",
       "      <td>Mevcut Hattaki İstasyon</td>\n",
       "      <td>Tramvay</td>\n",
       "      <td>Avrupa Yakası Raylı Sistemler Müdürlüğü</td>\n",
       "      <td>POINT (28.88168 41.0058)</td>\n",
       "    </tr>\n",
       "    <tr>\n",
       "      <th>1</th>\n",
       "      <td>Soğanlık</td>\n",
       "      <td>M4 Kadıköy - SGH Metro Hattı</td>\n",
       "      <td>Mevcut Hattaki İstasyon</td>\n",
       "      <td>Metro</td>\n",
       "      <td>Anadolu Yakası Raylı Sistemler Müdürlüğü</td>\n",
       "      <td>POINT (29.1924 40.91329)</td>\n",
       "    </tr>\n",
       "    <tr>\n",
       "      <th>2</th>\n",
       "      <td>Aksaray</td>\n",
       "      <td>M1A Yenikapı - Atatürk Havalimanı Metro Hattı</td>\n",
       "      <td>Mevcut Hattaki İstasyon</td>\n",
       "      <td>Metro</td>\n",
       "      <td>Avrupa Yakası Raylı Sistemler Müdürlüğü</td>\n",
       "      <td>POINT (28.94809 41.01201)</td>\n",
       "    </tr>\n",
       "    <tr>\n",
       "      <th>3</th>\n",
       "      <td>Olimpiyat</td>\n",
       "      <td>M9 Bahariye - Olimpiyat Metro Hattı</td>\n",
       "      <td>Mevcut Hattaki İstasyon</td>\n",
       "      <td>Metro</td>\n",
       "      <td>Avrupa Yakası Raylı Sistemler Müdürlüğü</td>\n",
       "      <td>POINT (28.76723 41.07947)</td>\n",
       "    </tr>\n",
       "    <tr>\n",
       "      <th>4</th>\n",
       "      <td>Sağmalcılar-Pancar Motor</td>\n",
       "      <td>T4 Topkapı - Mescid-i Selam Tramvay Hattı</td>\n",
       "      <td>Mevcut Hattaki İstasyon</td>\n",
       "      <td>Tramvay</td>\n",
       "      <td>Avrupa Yakası Raylı Sistemler Müdürlüğü</td>\n",
       "      <td>POINT (28.90694 41.05728)</td>\n",
       "    </tr>\n",
       "  </tbody>\n",
       "</table>\n",
       "</div>"
      ],
      "text/plain": [
       "                   ISTASYON                                      PROJE_ADI  \\\n",
       "0               Mehmet Akif            T1 Kabataş - Bağcılar Tramvay Hattı   \n",
       "1                  Soğanlık                   M4 Kadıköy - SGH Metro Hattı   \n",
       "2                   Aksaray  M1A Yenikapı - Atatürk Havalimanı Metro Hattı   \n",
       "3                 Olimpiyat            M9 Bahariye - Olimpiyat Metro Hattı   \n",
       "4  Sağmalcılar-Pancar Motor      T4 Topkapı - Mescid-i Selam Tramvay Hattı   \n",
       "\n",
       "               PROJE_ASAMA HAT_TURU                                  MUDURLUK  \\\n",
       "0  Mevcut Hattaki İstasyon  Tramvay   Avrupa Yakası Raylı Sistemler Müdürlüğü   \n",
       "1  Mevcut Hattaki İstasyon    Metro  Anadolu Yakası Raylı Sistemler Müdürlüğü   \n",
       "2  Mevcut Hattaki İstasyon    Metro   Avrupa Yakası Raylı Sistemler Müdürlüğü   \n",
       "3  Mevcut Hattaki İstasyon    Metro   Avrupa Yakası Raylı Sistemler Müdürlüğü   \n",
       "4  Mevcut Hattaki İstasyon  Tramvay   Avrupa Yakası Raylı Sistemler Müdürlüğü   \n",
       "\n",
       "                    geometry  \n",
       "0   POINT (28.88168 41.0058)  \n",
       "1   POINT (29.1924 40.91329)  \n",
       "2  POINT (28.94809 41.01201)  \n",
       "3  POINT (28.76723 41.07947)  \n",
       "4  POINT (28.90694 41.05728)  "
      ]
     },
     "execution_count": 3,
     "metadata": {},
     "output_type": "execute_result"
    }
   ],
   "source": [
    "gdf.head()"
   ]
  },
  {
   "cell_type": "code",
   "execution_count": 4,
   "id": "e5dec205",
   "metadata": {},
   "outputs": [
    {
     "data": {
      "text/plain": [
       "HAT_TURU\n",
       "Metro        213\n",
       "Tramvay       77\n",
       "Banliyö       43\n",
       "Füniküler      6\n",
       "Teleferik      4\n",
       "Name: count, dtype: int64"
      ]
     },
     "execution_count": 4,
     "metadata": {},
     "output_type": "execute_result"
    }
   ],
   "source": [
    "gdf[\"HAT_TURU\"].value_counts()"
   ]
  },
  {
   "cell_type": "code",
   "execution_count": 5,
   "id": "5a578d90",
   "metadata": {},
   "outputs": [],
   "source": [
    "gdf.drop(columns=[\"MUDURLUK\", \"HAT_TURU\", \"PROJE_ADI\", \"ISTASYON\"], inplace=True)"
   ]
  },
  {
   "cell_type": "code",
   "execution_count": 6,
   "id": "6b6b5d0d",
   "metadata": {},
   "outputs": [],
   "source": [
    "gdf[\"is_active\"] = gdf[\"PROJE_ASAMA\"].apply(lambda x: 1 if x == \"Mevcut Hattaki İstasyon\" else 0)"
   ]
  },
  {
   "cell_type": "code",
   "execution_count": 7,
   "id": "1e921e92",
   "metadata": {},
   "outputs": [
    {
     "data": {
      "text/plain": [
       "is_active\n",
       "1    268\n",
       "0     75\n",
       "Name: count, dtype: int64"
      ]
     },
     "execution_count": 7,
     "metadata": {},
     "output_type": "execute_result"
    }
   ],
   "source": [
    "gdf[\"is_active\"].value_counts()"
   ]
  },
  {
   "cell_type": "code",
   "execution_count": 8,
   "id": "2f69c406",
   "metadata": {},
   "outputs": [],
   "source": [
    "gdf.to_csv(\"../data/rail_system_poi_data_cleaned.csv\", index=False)"
   ]
  }
 ],
 "metadata": {
  "kernelspec": {
   "display_name": "base",
   "language": "python",
   "name": "python3"
  },
  "language_info": {
   "codemirror_mode": {
    "name": "ipython",
    "version": 3
   },
   "file_extension": ".py",
   "mimetype": "text/x-python",
   "name": "python",
   "nbconvert_exporter": "python",
   "pygments_lexer": "ipython3",
   "version": "3.12.3"
  }
 },
 "nbformat": 4,
 "nbformat_minor": 5
}

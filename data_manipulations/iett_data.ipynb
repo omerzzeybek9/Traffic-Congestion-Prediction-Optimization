{
 "cells": [
  {
   "cell_type": "code",
   "execution_count": 1,
   "metadata": {},
   "outputs": [],
   "source": [
    "import os\n",
    "import geopandas as gpd"
   ]
  },
  {
   "cell_type": "code",
   "execution_count": 2,
   "metadata": {},
   "outputs": [
    {
     "name": "stdout",
     "output_type": "stream",
     "text": [
      "    ID                ADI DURAK_KODU DURUMU  DURAK_TIPI    YON_BILGIS  \\\n",
      "0  392      MERCAN YUVASI     225972      1  İETTBAYRAK     SON DURAK   \n",
      "1  393   DENİZ HARP OKULU     225981      1    CCMODERN         TUZLA   \n",
      "2  394        ŞEKER SOKAK     227161      1  AÇIK DURAK      TEPEÖREN   \n",
      "3  398  EGEMENLİK CADDESİ     228381      1  AÇIK DURAK       KADIKÖY   \n",
      "4  402      İNÖNÜ CADDESİ     228401      1   IETTCAMLI  PENDİK  133Ş   \n",
      "\n",
      "            SON_GUNCEL           YAPILIS_TA ILCEID MAHALLEID     VERSIYON  \\\n",
      "0  13.07.2020 00:00:00  02.01.2016 00:00:00   2015     40719  2,02007E+14   \n",
      "1  01.06.2020 00:00:00  02.01.2016 00:00:00   2015     40719  2,02006E+14   \n",
      "2  17.11.2021 00:00:00  02.01.2016 00:00:00   2015     40720  2,02111E+14   \n",
      "3  23.09.2021 00:00:00  02.01.2016 00:00:00   2015     40722  2,02109E+14   \n",
      "4  01.01.1976 00:00:00  02.01.2016 00:00:00   2015     40722  2,01806E+14   \n",
      "\n",
      "  CEP_VAR                   geometry  \n",
      "0       0   POINT (29.27635 40.8183)  \n",
      "1       1  POINT (29.26618 40.81401)  \n",
      "2       0   POINT (29.34291 40.8838)  \n",
      "3       0  POINT (29.35172 40.82813)  \n",
      "4       2  POINT (29.35862 40.82856)  \n"
     ]
    }
   ],
   "source": [
    "file_path = \"../original_data/iett_otobus_duraklar.geojson\"\n",
    "gdf = gpd.read_file(file_path)\n",
    "\n",
    "print(gdf.head())"
   ]
  },
  {
   "cell_type": "code",
   "execution_count": 3,
   "metadata": {},
   "outputs": [
    {
     "name": "stdout",
     "output_type": "stream",
     "text": [
      "Column names:\n",
      "Index(['ID', 'ADI', 'DURAK_KODU', 'DURUMU', 'DURAK_TIPI', 'YON_BILGIS',\n",
      "       'SON_GUNCEL', 'YAPILIS_TA', 'ILCEID', 'MAHALLEID', 'VERSIYON',\n",
      "       'CEP_VAR', 'geometry'],\n",
      "      dtype='object')\n",
      "\n",
      "Dataset info:\n",
      "<class 'geopandas.geodataframe.GeoDataFrame'>\n",
      "RangeIndex: 15316 entries, 0 to 15315\n",
      "Data columns (total 13 columns):\n",
      " #   Column      Non-Null Count  Dtype   \n",
      "---  ------      --------------  -----   \n",
      " 0   ID          15316 non-null  object  \n",
      " 1   ADI         15316 non-null  object  \n",
      " 2   DURAK_KODU  15316 non-null  object  \n",
      " 3   DURUMU      15316 non-null  object  \n",
      " 4   DURAK_TIPI  15316 non-null  object  \n",
      " 5   YON_BILGIS  15316 non-null  object  \n",
      " 6   SON_GUNCEL  14408 non-null  object  \n",
      " 7   YAPILIS_TA  15316 non-null  object  \n",
      " 8   ILCEID      15316 non-null  object  \n",
      " 9   MAHALLEID   15316 non-null  object  \n",
      " 10  VERSIYON    15316 non-null  object  \n",
      " 11  CEP_VAR     15282 non-null  object  \n",
      " 12  geometry    15316 non-null  geometry\n",
      "dtypes: geometry(1), object(12)\n",
      "memory usage: 1.5+ MB\n",
      "None\n",
      "\n",
      "Null values in each column:\n",
      "ID              0\n",
      "ADI             0\n",
      "DURAK_KODU      0\n",
      "DURUMU          0\n",
      "DURAK_TIPI      0\n",
      "YON_BILGIS      0\n",
      "SON_GUNCEL    908\n",
      "YAPILIS_TA      0\n",
      "ILCEID          0\n",
      "MAHALLEID       0\n",
      "VERSIYON        0\n",
      "CEP_VAR        34\n",
      "geometry        0\n",
      "dtype: int64\n",
      "\n",
      "Basic statistics:\n",
      "           ID      ADI DURAK_KODU DURUMU  DURAK_TIPI YON_BILGIS  \\\n",
      "count   15316    15316      15316  15316       15316      15316   \n",
      "unique  15316     6834      15316      1          19       2274   \n",
      "top       392  KADIKÖY     225972      1  İETTBAYRAK    KADIKÖY   \n",
      "freq        1       64          1  15316        6670        806   \n",
      "\n",
      "                 SON_GUNCEL           YAPILIS_TA ILCEID MAHALLEID  \\\n",
      "count                 14408                15316  15316     15316   \n",
      "unique                 1119                  880     42       925   \n",
      "top     01.01.1976 00:00:00  02.01.2016 00:00:00   1185     40582   \n",
      "freq                   6813                11432   1040       121   \n",
      "\n",
      "           VERSIYON CEP_VAR                                   geometry  \n",
      "count         15316   15282                                      15316  \n",
      "unique           85       3                                      15313  \n",
      "top     2,01807E+14       0  POINT (29.1740670000106 41.0766529991152)  \n",
      "freq           3418    6339                                          2  \n"
     ]
    }
   ],
   "source": [
    "print(\"Column names:\")\n",
    "print(gdf.columns)\n",
    "\n",
    "print(\"\\nDataset info:\")\n",
    "print(gdf.info())\n",
    "\n",
    "print(\"\\nNull values in each column:\")\n",
    "print(gdf.isnull().sum())\n",
    "\n",
    "print(\"\\nBasic statistics:\")\n",
    "print(gdf.describe())\n"
   ]
  },
  {
   "cell_type": "code",
   "execution_count": 4,
   "metadata": {},
   "outputs": [],
   "source": [
    "columns_to_drop = [\"ID\", \"ADI\", \"DURAK_TIPI\",\"YON_BILGIS\", \"SON_GUNCEL\", \"YAPILIS_TA\", \"ILCEID\", \"MAHALLEID\", \"VERSIYON\", \"CEP_VAR\"]\n",
    "gdf = gdf.drop(columns=columns_to_drop)"
   ]
  },
  {
   "cell_type": "code",
   "execution_count": 5,
   "metadata": {},
   "outputs": [
    {
     "name": "stdout",
     "output_type": "stream",
     "text": [
      "Number of duplicate DURAK_KODU values: 0\n"
     ]
    }
   ],
   "source": [
    "duplicate_stops = gdf['DURAK_KODU'].value_counts()\n",
    "print(\"Number of duplicate DURAK_KODU values:\", len(gdf[gdf['DURAK_KODU'].duplicated()]))"
   ]
  },
  {
   "cell_type": "code",
   "execution_count": null,
   "execution_count": 6,
   "metadata": {},
   "outputs": [],
   "source": [
    "gdf = gdf.drop(columns=[\"DURAK_KODU\"])"
   ]
  },
  {
   "cell_type": "code",
   "execution_count": 7,
   "metadata": {},
   "outputs": [
    {
     "name": "stdout",
     "output_type": "stream",
     "text": [
      "Column names:\n",
      "Index(['DURUMU', 'geometry'], dtype='object')\n",
      "\n",
      "Dataset info:\n",
      "<class 'geopandas.geodataframe.GeoDataFrame'>\n",
      "RangeIndex: 15316 entries, 0 to 15315\n",
      "Data columns (total 2 columns):\n",
      " #   Column    Non-Null Count  Dtype   \n",
      "---  ------    --------------  -----   \n",
      " 0   DURUMU    15316 non-null  object  \n",
      " 1   geometry  15316 non-null  geometry\n",
      "dtypes: geometry(1), object(1)\n",
      "memory usage: 239.4+ KB\n",
      "None\n",
      "\n",
      "Null values in each column:\n",
      "DURUMU      0\n",
      "geometry    0\n",
      "dtype: int64\n",
      "\n",
      "Basic statistics:\n",
      "       DURUMU                                   geometry\n",
      "count   15316                                      15316\n",
      "unique      1                                      15313\n",
      "top         1  POINT (29.1740670000106 41.0766529991152)\n",
      "freq    15316                                          2\n"
     ]
    }
   ],
   "source": [
    "print(\"Column names:\")\n",
    "print(gdf.columns)\n",
    "\n",
    "print(\"\\nDataset info:\")\n",
    "print(gdf.info())\n",
    "\n",
    "print(\"\\nNull values in each column:\")\n",
    "print(gdf.isnull().sum())\n",
    "\n",
    "print(\"\\nBasic statistics:\")\n",
    "print(gdf.describe())"
   ]
  },
  {
   "cell_type": "code",
   "execution_count": 8,
   "metadata": {},
   "outputs": [
    {
     "name": "stdout",
     "output_type": "stream",
     "text": [
      "DURUMU value distribution:\n",
      "DURUMU\n",
      "1    15316\n",
      "Name: count, dtype: int64\n",
      "DURUMU\n",
      "1    100.0\n",
      "Name: proportion, dtype: float64 %\n"
     ]
    }
   ],
   "source": [
    "print(\"DURUMU value distribution:\")\n",
    "print(gdf[\"DURUMU\"].value_counts())\n",
    "print(gdf[\"DURUMU\"].value_counts(normalize=True).round(4) * 100, \"%\")"
   ]
  },
  {
   "cell_type": "code",
   "execution_count": null,
   "execution_count": 9,
   "metadata": {},
   "outputs": [],
   "source": [
    "gdf = gdf.drop(columns=[\"DURUMU\"])"
   ]
  },
  {
   "cell_type": "code",
   "execution_count": 10,
   "metadata": {},
   "outputs": [
    {
     "name": "stdout",
     "output_type": "stream",
     "text": [
      "Column names:\n",
      "Index(['geometry'], dtype='object')\n",
      "No null columns\n"
     ]
    }
   ],
   "source": [
    "print(\"Column names:\")\n",
    "print(gdf.columns)\n",
    "\n",
    "null_columns = gdf.columns[gdf.isnull().all()].tolist()\n",
    "\n",
    "if null_columns:\n",
    "    print(null_columns)\n",
    "else:\n",
    "    print(\"No null columns\")\n"
   ]
  },
  {
   "cell_type": "code",
   "execution_count": 11,
   "metadata": {},
   "outputs": [],
   "source": [
    "gdf.to_csv(\"../data/iett_otobus_duraklar.csv\", index=False)"
   ]
  }
 ],
 "metadata": {
  "kernelspec": {
   "display_name": "base",
   "language": "python",
   "name": "python3"
  },
  "language_info": {
   "codemirror_mode": {
    "name": "ipython",
    "version": 3
   },
   "file_extension": ".py",
   "mimetype": "text/x-python",
   "name": "python",
   "nbconvert_exporter": "python",
   "pygments_lexer": "ipython3",
   "version": "3.12.3"
  }
 },
 "nbformat": 4,
 "nbformat_minor": 2
}

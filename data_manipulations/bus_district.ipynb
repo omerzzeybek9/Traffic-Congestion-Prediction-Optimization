{
 "cells": [
  {
   "cell_type": "code",
   "execution_count": 15,
   "id": "31894c83",
   "metadata": {},
   "outputs": [],
   "source": [
    "import pandas as pd\n",
    "import geopandas as gpd"
   ]
  },
  {
   "cell_type": "code",
   "execution_count": 16,
   "id": "477ac8a3",
   "metadata": {},
   "outputs": [],
   "source": [
    "bus_data = pd.read_csv(\"../data/iett_otobus_duraklar.csv\")"
   ]
  },
  {
   "cell_type": "code",
   "execution_count": 17,
   "id": "ffa3150c",
   "metadata": {},
   "outputs": [
    {
     "data": {
      "text/html": [
       "<div>\n",
       "<style scoped>\n",
       "    .dataframe tbody tr th:only-of-type {\n",
       "        vertical-align: middle;\n",
       "    }\n",
       "\n",
       "    .dataframe tbody tr th {\n",
       "        vertical-align: top;\n",
       "    }\n",
       "\n",
       "    .dataframe thead th {\n",
       "        text-align: right;\n",
       "    }\n",
       "</style>\n",
       "<table border=\"1\" class=\"dataframe\">\n",
       "  <thead>\n",
       "    <tr style=\"text-align: right;\">\n",
       "      <th></th>\n",
       "      <th>geometry</th>\n",
       "    </tr>\n",
       "  </thead>\n",
       "  <tbody>\n",
       "    <tr>\n",
       "      <th>0</th>\n",
       "      <td>POINT (29.2763499999941 40.8183030005252)</td>\n",
       "    </tr>\n",
       "    <tr>\n",
       "      <th>1</th>\n",
       "      <td>POINT (29.266183999994 40.8140130005245)</td>\n",
       "    </tr>\n",
       "    <tr>\n",
       "      <th>2</th>\n",
       "      <td>POINT (29.3429089999946 40.8837970005355)</td>\n",
       "    </tr>\n",
       "    <tr>\n",
       "      <th>3</th>\n",
       "      <td>POINT (29.3517150000085 40.8281299991206)</td>\n",
       "    </tr>\n",
       "    <tr>\n",
       "      <th>4</th>\n",
       "      <td>POINT (29.3586189999948 40.8285630005268)</td>\n",
       "    </tr>\n",
       "  </tbody>\n",
       "</table>\n",
       "</div>"
      ],
      "text/plain": [
       "                                    geometry\n",
       "0  POINT (29.2763499999941 40.8183030005252)\n",
       "1   POINT (29.266183999994 40.8140130005245)\n",
       "2  POINT (29.3429089999946 40.8837970005355)\n",
       "3  POINT (29.3517150000085 40.8281299991206)\n",
       "4  POINT (29.3586189999948 40.8285630005268)"
      ]
     },
     "execution_count": 17,
     "metadata": {},
     "output_type": "execute_result"
    }
   ],
   "source": [
    "bus_data.head()"
   ]
  },
  {
   "cell_type": "code",
   "execution_count": 18,
   "id": "21177706",
   "metadata": {},
   "outputs": [],
   "source": [
    "from shapely import wkt\n",
    "\n",
    "bus_data[\"geometry\"] = bus_data[\"geometry\"].apply(wkt.loads)\n",
    "\n",
    "gdf_points = gpd.GeoDataFrame(bus_data, geometry=\"geometry\", crs=\"EPSG:4326\")\n",
    "\n",
    "gdf_districts = gpd.read_file(\"../data/istanbul-districts.json\")\n",
    "\n",
    "gdf_points = gdf_points.to_crs(gdf_districts.crs)\n",
    "\n",
    "result = gpd.sjoin(gdf_points, gdf_districts, how=\"left\", predicate=\"within\")"
   ]
  },
  {
   "cell_type": "code",
   "execution_count": 19,
   "id": "0416aa53",
   "metadata": {},
   "outputs": [
    {
     "data": {
      "text/html": [
       "<div>\n",
       "<style scoped>\n",
       "    .dataframe tbody tr th:only-of-type {\n",
       "        vertical-align: middle;\n",
       "    }\n",
       "\n",
       "    .dataframe tbody tr th {\n",
       "        vertical-align: top;\n",
       "    }\n",
       "\n",
       "    .dataframe thead th {\n",
       "        text-align: right;\n",
       "    }\n",
       "</style>\n",
       "<table border=\"1\" class=\"dataframe\">\n",
       "  <thead>\n",
       "    <tr style=\"text-align: right;\">\n",
       "      <th></th>\n",
       "      <th>geometry</th>\n",
       "      <th>index_right</th>\n",
       "      <th>id</th>\n",
       "      <th>name</th>\n",
       "    </tr>\n",
       "  </thead>\n",
       "  <tbody>\n",
       "    <tr>\n",
       "      <th>0</th>\n",
       "      <td>POINT (29.27635 40.8183)</td>\n",
       "      <td>5.0</td>\n",
       "      <td>relation/1276010</td>\n",
       "      <td>Tuzla</td>\n",
       "    </tr>\n",
       "    <tr>\n",
       "      <th>1</th>\n",
       "      <td>POINT (29.26618 40.81401)</td>\n",
       "      <td>5.0</td>\n",
       "      <td>relation/1276010</td>\n",
       "      <td>Tuzla</td>\n",
       "    </tr>\n",
       "    <tr>\n",
       "      <th>2</th>\n",
       "      <td>POINT (29.34291 40.8838)</td>\n",
       "      <td>5.0</td>\n",
       "      <td>relation/1276010</td>\n",
       "      <td>Tuzla</td>\n",
       "    </tr>\n",
       "    <tr>\n",
       "      <th>3</th>\n",
       "      <td>POINT (29.35172 40.82813)</td>\n",
       "      <td>5.0</td>\n",
       "      <td>relation/1276010</td>\n",
       "      <td>Tuzla</td>\n",
       "    </tr>\n",
       "    <tr>\n",
       "      <th>4</th>\n",
       "      <td>POINT (29.35862 40.82856)</td>\n",
       "      <td>5.0</td>\n",
       "      <td>relation/1276010</td>\n",
       "      <td>Tuzla</td>\n",
       "    </tr>\n",
       "  </tbody>\n",
       "</table>\n",
       "</div>"
      ],
      "text/plain": [
       "                    geometry  index_right                id   name\n",
       "0   POINT (29.27635 40.8183)          5.0  relation/1276010  Tuzla\n",
       "1  POINT (29.26618 40.81401)          5.0  relation/1276010  Tuzla\n",
       "2   POINT (29.34291 40.8838)          5.0  relation/1276010  Tuzla\n",
       "3  POINT (29.35172 40.82813)          5.0  relation/1276010  Tuzla\n",
       "4  POINT (29.35862 40.82856)          5.0  relation/1276010  Tuzla"
      ]
     },
     "execution_count": 19,
     "metadata": {},
     "output_type": "execute_result"
    }
   ],
   "source": [
    "result.head()"
   ]
  },
  {
   "cell_type": "code",
   "execution_count": 20,
   "id": "e53dbfb4",
   "metadata": {},
   "outputs": [],
   "source": [
    "code_dict = {\n",
    "    \"Adalar\": 0,\n",
    "    \"Arnavutköy\": 1,\n",
    "    \"Ataşehir\": 2,\n",
    "    \"Avcılar\": 3,\n",
    "    \"Bağcılar\": 4,\n",
    "    \"Bahçelievler\": 5,\n",
    "    \"Bakırköy\": 6,\n",
    "    \"Başakşehir\": 7,\n",
    "    \"Bayrampaşa\": 8,\n",
    "    \"Beşiktaş\": 9,\n",
    "    \"Beykoz\": 10,\n",
    "    \"Beylikdüzü\": 11,\n",
    "    \"Beyoğlu\": 12,\n",
    "    \"Çatalca\": 13,\n",
    "    \"Çekmeköy\": 14,\n",
    "    \"Esenler\": 15,\n",
    "    \"Esenyurt\": 16,\n",
    "    \"Eyüpsultan\": 17,\n",
    "    \"Fatih\": 18,\n",
    "    \"Gaziosmanpaşa\": 19,\n",
    "    \"Güngören\": 20,\n",
    "    \"Kadıköy\": 21,\n",
    "    \"Kağıthane\": 22,\n",
    "    \"Kartal\": 23,\n",
    "    \"Küçükçekmece\": 24,\n",
    "    \"Maltepe\": 25,\n",
    "    \"Pendik\": 26,\n",
    "    \"Sancaktepe\": 27,\n",
    "    \"Sarıyer\": 28,\n",
    "    \"Şile\": 29,\n",
    "    \"Şişli\": 30,\n",
    "    \"Sultanbeyli\": 31,\n",
    "    \"Sultangazi\": 32,\n",
    "    \"Tuzla\": 33,\n",
    "    \"Ümraniye\": 34,\n",
    "    \"Üsküdar\": 35,\n",
    "    \"Zeytinburnu\": 36,\n",
    "    \"Silivri\": 37,\n",
    "    \"Çekmeköy\": 38\n",
    "}"
   ]
  },
  {
   "cell_type": "code",
   "execution_count": 21,
   "id": "01996192",
   "metadata": {},
   "outputs": [],
   "source": [
    "result[\"name\"] = result[\"name\"].apply(lambda x: code_dict[x] if x in code_dict else None).astype(\"Int64\")\n",
    "\n",
    "result.dropna(subset=[\"name\"], inplace=True)"
   ]
  },
  {
   "cell_type": "code",
   "execution_count": 22,
   "id": "957694d9",
   "metadata": {},
   "outputs": [],
   "source": [
    "result.drop(columns=[\"id\", \"index_right\"], inplace=True)"
   ]
  },
  {
   "cell_type": "code",
   "execution_count": 23,
   "id": "2575ad45",
   "metadata": {},
   "outputs": [],
   "source": [
    "result.to_csv(\"../data/bus_data_with_districts.csv\", index=False)"
   ]
  }
 ],
 "metadata": {
  "kernelspec": {
   "display_name": "base",
   "language": "python",
   "name": "python3"
  },
  "language_info": {
   "codemirror_mode": {
    "name": "ipython",
    "version": 3
   },
   "file_extension": ".py",
   "mimetype": "text/x-python",
   "name": "python",
   "nbconvert_exporter": "python",
   "pygments_lexer": "ipython3",
   "version": "3.12.3"
  }
 },
 "nbformat": 4,
 "nbformat_minor": 5
}

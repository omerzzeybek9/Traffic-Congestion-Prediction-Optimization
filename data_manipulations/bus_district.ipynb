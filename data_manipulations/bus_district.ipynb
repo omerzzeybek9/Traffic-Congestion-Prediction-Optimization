{
 "cells": [
  {
   "cell_type": "code",
   "execution_count": 1,
   "id": "31894c83",
   "metadata": {},
   "outputs": [],
   "source": [
    "import pandas as pd\n",
    "import geopandas as gpd"
   ]
  },
  {
   "cell_type": "code",
   "execution_count": 2,
   "id": "477ac8a3",
   "metadata": {},
   "outputs": [],
   "source": [
    "bus_data = pd.read_csv(\"../data/iett_otobus_duraklar.csv\")"
   ]
  },
  {
   "cell_type": "code",
   "execution_count": 3,
   "id": "ffa3150c",
   "metadata": {},
   "outputs": [
    {
     "data": {
      "text/html": [
       "<div>\n",
       "<style scoped>\n",
       "    .dataframe tbody tr th:only-of-type {\n",
       "        vertical-align: middle;\n",
       "    }\n",
       "\n",
       "    .dataframe tbody tr th {\n",
       "        vertical-align: top;\n",
       "    }\n",
       "\n",
       "    .dataframe thead th {\n",
       "        text-align: right;\n",
       "    }\n",
       "</style>\n",
       "<table border=\"1\" class=\"dataframe\">\n",
       "  <thead>\n",
       "    <tr style=\"text-align: right;\">\n",
       "      <th></th>\n",
       "      <th>geometry</th>\n",
       "    </tr>\n",
       "  </thead>\n",
       "  <tbody>\n",
       "    <tr>\n",
       "      <th>0</th>\n",
       "      <td>POINT (29.2763499999941 40.8183030005252)</td>\n",
       "    </tr>\n",
       "    <tr>\n",
       "      <th>1</th>\n",
       "      <td>POINT (29.266183999994 40.8140130005245)</td>\n",
       "    </tr>\n",
       "    <tr>\n",
       "      <th>2</th>\n",
       "      <td>POINT (29.3429089999946 40.8837970005355)</td>\n",
       "    </tr>\n",
       "    <tr>\n",
       "      <th>3</th>\n",
       "      <td>POINT (29.3517150000085 40.8281299991206)</td>\n",
       "    </tr>\n",
       "    <tr>\n",
       "      <th>4</th>\n",
       "      <td>POINT (29.3586189999948 40.8285630005268)</td>\n",
       "    </tr>\n",
       "  </tbody>\n",
       "</table>\n",
       "</div>"
      ],
      "text/plain": [
       "                                    geometry\n",
       "0  POINT (29.2763499999941 40.8183030005252)\n",
       "1   POINT (29.266183999994 40.8140130005245)\n",
       "2  POINT (29.3429089999946 40.8837970005355)\n",
       "3  POINT (29.3517150000085 40.8281299991206)\n",
       "4  POINT (29.3586189999948 40.8285630005268)"
      ]
     },
     "execution_count": 3,
     "metadata": {},
     "output_type": "execute_result"
    }
   ],
   "source": [
    "bus_data.head()"
   ]
  },
  {
   "cell_type": "code",
   "execution_count": 4,
   "id": "21177706",
   "metadata": {},
   "outputs": [],
   "source": [
    "from shapely import wkt\n",
    "\n",
    "bus_data[\"geometry\"] = bus_data[\"geometry\"].apply(wkt.loads)\n",
    "\n",
    "gdf_points = gpd.GeoDataFrame(bus_data, geometry=\"geometry\", crs=\"EPSG:4326\")\n",
    "\n",
    "gdf_districts = gpd.read_file(\"../data/istanbul-districts.json\")\n",
    "\n",
    "gdf_points = gdf_points.to_crs(gdf_districts.crs)\n",
    "\n",
    "result = gpd.sjoin(gdf_points, gdf_districts, how=\"left\", predicate=\"within\")"
   ]
  },
  {
   "cell_type": "code",
   "execution_count": 5,
   "id": "0416aa53",
   "metadata": {},
   "outputs": [
    {
     "data": {
      "text/html": [
       "<div>\n",
       "<style scoped>\n",
       "    .dataframe tbody tr th:only-of-type {\n",
       "        vertical-align: middle;\n",
       "    }\n",
       "\n",
       "    .dataframe tbody tr th {\n",
       "        vertical-align: top;\n",
       "    }\n",
       "\n",
       "    .dataframe thead th {\n",
       "        text-align: right;\n",
       "    }\n",
       "</style>\n",
       "<table border=\"1\" class=\"dataframe\">\n",
       "  <thead>\n",
       "    <tr style=\"text-align: right;\">\n",
       "      <th></th>\n",
       "      <th>geometry</th>\n",
       "      <th>index_right</th>\n",
       "      <th>id</th>\n",
       "      <th>name</th>\n",
       "    </tr>\n",
       "  </thead>\n",
       "  <tbody>\n",
       "    <tr>\n",
       "      <th>0</th>\n",
       "      <td>POINT (29.27635 40.8183)</td>\n",
       "      <td>5.0</td>\n",
       "      <td>relation/1276010</td>\n",
       "      <td>Tuzla</td>\n",
       "    </tr>\n",
       "    <tr>\n",
       "      <th>1</th>\n",
       "      <td>POINT (29.26618 40.81401)</td>\n",
       "      <td>5.0</td>\n",
       "      <td>relation/1276010</td>\n",
       "      <td>Tuzla</td>\n",
       "    </tr>\n",
       "    <tr>\n",
       "      <th>2</th>\n",
       "      <td>POINT (29.34291 40.8838)</td>\n",
       "      <td>5.0</td>\n",
       "      <td>relation/1276010</td>\n",
       "      <td>Tuzla</td>\n",
       "    </tr>\n",
       "    <tr>\n",
       "      <th>3</th>\n",
       "      <td>POINT (29.35172 40.82813)</td>\n",
       "      <td>5.0</td>\n",
       "      <td>relation/1276010</td>\n",
       "      <td>Tuzla</td>\n",
       "    </tr>\n",
       "    <tr>\n",
       "      <th>4</th>\n",
       "      <td>POINT (29.35862 40.82856)</td>\n",
       "      <td>5.0</td>\n",
       "      <td>relation/1276010</td>\n",
       "      <td>Tuzla</td>\n",
       "    </tr>\n",
       "  </tbody>\n",
       "</table>\n",
       "</div>"
      ],
      "text/plain": [
       "                    geometry  index_right                id   name\n",
       "0   POINT (29.27635 40.8183)          5.0  relation/1276010  Tuzla\n",
       "1  POINT (29.26618 40.81401)          5.0  relation/1276010  Tuzla\n",
       "2   POINT (29.34291 40.8838)          5.0  relation/1276010  Tuzla\n",
       "3  POINT (29.35172 40.82813)          5.0  relation/1276010  Tuzla\n",
       "4  POINT (29.35862 40.82856)          5.0  relation/1276010  Tuzla"
      ]
     },
     "execution_count": 5,
     "metadata": {},
     "output_type": "execute_result"
    }
   ],
   "source": [
    "result.head()"
   ]
  },
  {
   "cell_type": "code",
   "execution_count": 6,
   "id": "e53dbfb4",
   "metadata": {},
   "outputs": [],
   "source": [
    "code_dict = {\n",
    "    \"Adalar\": 0,\n",
    "    \"Arnavutkoy\": 1,\n",
    "    \"Atasehir\": 2,\n",
    "    \"Avcilar\": 3,\n",
    "    \"Bagcilar\": 4,\n",
    "    \"Bahcelievler\": 5,\n",
    "    \"Bakirkoy\": 6,\n",
    "    \"Basaksehir\": 7,\n",
    "    \"Bayrampasa\": 8,\n",
    "    \"Besiktas\": 9,\n",
    "    \"Beykoz\": 10,\n",
    "    \"Beylikduzu\": 11,\n",
    "    \"Beyoglu\": 12,\n",
    "    \"Buyukcekmece\": 13,\n",
    "    \"Catalca\": 14,\n",
    "    \"Cekmekoy\": 15,\n",
    "    \"Esenler\": 16,\n",
    "    \"Esenyurt\": 17,\n",
    "    \"Eyupsultan\": 18,\n",
    "    \"Fatih\": 19,\n",
    "    \"Gaziosmanpasa\": 20,\n",
    "    \"Gungoren\": 21,\n",
    "    \"Kadikoy\": 22,\n",
    "    \"Kagithane\": 23,\n",
    "    \"Kartal\": 24,\n",
    "    \"Kucukcekmece\": 25,\n",
    "    \"Maltepe\": 26,\n",
    "    \"Pendik\": 27,\n",
    "    \"Sancaktepe\": 28,\n",
    "    \"Sariyer\": 29,\n",
    "    \"Silivri\": 30,\n",
    "    \"Sultanbeyli\": 31,\n",
    "    \"Sultangazi\": 32,\n",
    "    \"Sile\": 33,\n",
    "    \"Sisli\": 34,\n",
    "    \"Tuzla\": 35,\n",
    "    \"Umraniye\": 36,\n",
    "    \"Uskudar\": 37,\n",
    "    \"Zeytinburnu\": 38\n",
    "}\n"
   ]
  },
  {
   "cell_type": "code",
   "execution_count": 7,
   "id": "01996192",
   "metadata": {},
   "outputs": [],
   "source": [
    "result[\"name\"] = result[\"name\"].apply(lambda x: code_dict[x] if x in code_dict else None).astype(\"Int64\")\n",
    "\n",
    "result.dropna(subset=[\"name\"], inplace=True)"
   ]
  },
  {
   "cell_type": "code",
   "execution_count": 8,
   "id": "957694d9",
   "metadata": {},
   "outputs": [],
   "source": [
    "result.drop(columns=[\"id\", \"index_right\"], inplace=True)"
   ]
  },
  {
   "cell_type": "code",
   "execution_count": 9,
   "id": "2575ad45",
   "metadata": {},
   "outputs": [],
   "source": [
    "result.to_csv(\"../data/bus_data_with_districts.csv\", index=False)"
   ]
  }
 ],
 "metadata": {
  "kernelspec": {
   "display_name": "base",
   "language": "python",
   "name": "python3"
  },
  "language_info": {
   "codemirror_mode": {
    "name": "ipython",
    "version": 3
   },
   "file_extension": ".py",
   "mimetype": "text/x-python",
   "name": "python",
   "nbconvert_exporter": "python",
   "pygments_lexer": "ipython3",
   "version": "3.12.3"
  }
 },
 "nbformat": 4,
 "nbformat_minor": 5
}

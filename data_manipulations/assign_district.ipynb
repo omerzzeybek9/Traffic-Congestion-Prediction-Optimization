{
 "cells": [
  {
   "cell_type": "code",
   "execution_count": null,
   "id": "ae7e4e7c",
   "metadata": {},
   "outputs": [],
   "source": [
    "import pandas as pd\n",
    "import geopandas as gpd"
   ]
  },
  {
   "cell_type": "code",
   "execution_count": null,
   "id": "8b28938e",
   "metadata": {},
   "outputs": [],
   "source": [
    "from shapely import wkt\n",
    "\n",
    "gdf_new = pd.read_csv(\"../data/rail_system_poi_data_cleaned.csv\")\n",
    "\n",
    "gdf_new[\"geometry\"] = gdf_new[\"geometry\"].apply(wkt.loads)\n",
    "\n",
    "gdf_points = gpd.GeoDataFrame(gdf_new, geometry=\"geometry\", crs=\"EPSG:4326\")\n",
    "\n",
    "gdf_districts = gpd.read_file(\"../data/istanbul-districts.json\")\n",
    "\n",
    "gdf_points = gdf_points.to_crs(gdf_districts.crs)\n",
    "\n",
    "result = gpd.sjoin(gdf_points, gdf_districts, how=\"left\", predicate=\"within\")"
   ]
  },
  {
   "cell_type": "code",
   "execution_count": null,
   "id": "f5b92180",
   "metadata": {},
   "outputs": [],
   "source": [
    "result"
   ]
  },
  {
   "cell_type": "code",
   "execution_count": null,
   "id": "6dde3268",
   "metadata": {},
   "outputs": [],
   "source": [
    "code_dict = {\n",
    "    \"Adalar\": 0,\n",
    "    \"Arnavutköy\": 1,\n",
    "    \"Ataşehir\": 2,\n",
    "    \"Avcılar\": 3,\n",
    "    \"Bağcılar\": 4,\n",
    "    \"Bahçelievler\": 5,\n",
    "    \"Bakırköy\": 6,\n",
    "    \"Başakşehir\": 7,\n",
    "    \"Bayrampaşa\": 8,\n",
    "    \"Beşiktaş\": 9,\n",
    "    \"Beykoz\": 10,\n",
    "    \"Beylikdüzü\": 11,\n",
    "    \"Beyoğlu\": 12,\n",
    "    \"Çatalca\": 13,\n",
    "    \"Çekmeköy\": 14,\n",
    "    \"Esenler\": 15,\n",
    "    \"Esenyurt\": 16,\n",
    "    \"Eyüpsultan\": 17,\n",
    "    \"Fatih\": 18,\n",
    "    \"Gaziosmanpaşa\": 19,\n",
    "    \"Güngören\": 20,\n",
    "    \"Kadıköy\": 21,\n",
    "    \"Kağıthane\": 22,\n",
    "    \"Kartal\": 23,\n",
    "    \"Küçükçekmece\": 24,\n",
    "    \"Maltepe\": 25,\n",
    "    \"Pendik\": 26,\n",
    "    \"Sancaktepe\": 27,\n",
    "    \"Sarıyer\": 28,\n",
    "    \"Şile\": 29,\n",
    "    \"Şişli\": 30,\n",
    "    \"Sultanbeyli\": 31,\n",
    "    \"Sultangazi\": 32,\n",
    "    \"Tuzla\": 33,\n",
    "    \"Ümraniye\": 34,\n",
    "    \"Üsküdar\": 35,\n",
    "    \"Zeytinburnu\": 36,\n",
    "    \"Silivri\": 37,\n",
    "    \"Çekmeköy\": 38\n",
    "}"
   ]
  },
  {
   "cell_type": "code",
   "execution_count": null,
   "id": "48ebc08e",
   "metadata": {},
   "outputs": [],
   "source": [
    "result[\"name\"].apply(lambda x: code_dict[x] if x in code_dict else None)"
   ]
  },
  {
   "cell_type": "code",
   "execution_count": null,
   "id": "7f9a68ef",
   "metadata": {},
   "outputs": [],
   "source": [
    "result.drop(columns=[\"id\", \"index_right\"], inplace=True)"
   ]
  },
  {
   "cell_type": "code",
   "execution_count": null,
   "id": "d7a7d9f9",
   "metadata": {},
   "outputs": [],
   "source": [
    "result.to_csv(\"../data/rail_system_poi_data_with_districts.csv\", index=False)"
   ]
  }
 ],
 "metadata": {
  "language_info": {
   "name": "python"
  }
 },
 "nbformat": 4,
 "nbformat_minor": 5
}

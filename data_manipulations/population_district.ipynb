{
 "cells": [
  {
   "cell_type": "code",
   "execution_count": 1,
   "id": "94333c52",
   "metadata": {},
   "outputs": [],
   "source": [
    "import pandas as pd"
   ]
  },
  {
   "cell_type": "code",
   "execution_count": 2,
   "id": "e2098fb0",
   "metadata": {},
   "outputs": [],
   "source": [
    "population_data = pd.read_csv(\"../original_data/populations_by_districts.csv\")\n",
    "railway_data = pd.read_csv(\"../data/rail_system_poi_data_with_districts.csv\")\n",
    "bus_data = pd.read_csv(\"../data/bus_data_with_districts.csv\")"
   ]
  },
  {
   "cell_type": "code",
   "execution_count": 3,
   "id": "3ba02912",
   "metadata": {},
   "outputs": [],
   "source": [
    "code_dict = {\n",
    "    \"Adalar\": 0,\n",
    "    \"Arnavutkoy\": 1,\n",
    "    \"Atasehir\": 2,\n",
    "    \"Avcilar\": 3,\n",
    "    \"Bagcilar\": 4,\n",
    "    \"Bahcelievler\": 5,\n",
    "    \"Bakirkoy\": 6,\n",
    "    \"Basaksehir\": 7,\n",
    "    \"Bayrampasa\": 8,\n",
    "    \"Besiktas\": 9,\n",
    "    \"Beykoz\": 10,\n",
    "    \"Beylikduzu\": 11,\n",
    "    \"Beyoglu\": 12,\n",
    "    \"Buyukcekmece\": 13,\n",
    "    \"Catalca\": 14,\n",
    "    \"Cekmekoy\": 15,\n",
    "    \"Esenler\": 16,\n",
    "    \"Esenyurt\": 17,\n",
    "    \"Eyupsultan\": 18,\n",
    "    \"Fatih\": 19,\n",
    "    \"Gaziosmanpasa\": 20,\n",
    "    \"Gungoren\": 21,\n",
    "    \"Kadikoy\": 22,\n",
    "    \"Kagithane\": 23,\n",
    "    \"Kartal\": 24,\n",
    "    \"Kucukcekmece\": 25,\n",
    "    \"Maltepe\": 26,\n",
    "    \"Pendik\": 27,\n",
    "    \"Sancaktepe\": 28,\n",
    "    \"Sariyer\": 29,\n",
    "    \"Silivri\": 30,\n",
    "    \"Sultanbeyli\": 31,\n",
    "    \"Sultangazi\": 32,\n",
    "    \"Sile\": 33,\n",
    "    \"Sisli\": 34,\n",
    "    \"Tuzla\": 35,\n",
    "    \"Umraniye\": 36,\n",
    "    \"Uskudar\": 37,\n",
    "    \"Zeytinburnu\": 38\n",
    "}\n"
   ]
  },
  {
   "cell_type": "code",
   "execution_count": 4,
   "id": "7bd0d096",
   "metadata": {},
   "outputs": [],
   "source": [
    "population_data[\"District\"] = population_data[\"District\"].apply(lambda x: code_dict[x] if x in code_dict else None).astype(\"Int64\")"
   ]
  },
  {
   "cell_type": "code",
   "execution_count": 5,
   "id": "9105f476",
   "metadata": {},
   "outputs": [
    {
     "data": {
      "text/plain": [
       "name\n",
       "18    27\n",
       "21    27\n",
       "17    25\n",
       "34    20\n",
       "6     19\n",
       "24    18\n",
       "7     17\n",
       "26    17\n",
       "4     17\n",
       "12    11\n",
       "15    10\n",
       "25    10\n",
       "23     9\n",
       "30     9\n",
       "5      9\n",
       "35     9\n",
       "9      8\n",
       "19     8\n",
       "2      8\n",
       "36     8\n",
       "28     7\n",
       "32     6\n",
       "20     6\n",
       "27     6\n",
       "22     5\n",
       "1      5\n",
       "8      4\n",
       "33     4\n",
       "16     3\n",
       "31     2\n",
       "3      2\n",
       "38     1\n",
       "Name: count, dtype: int64"
      ]
     },
     "execution_count": 5,
     "metadata": {},
     "output_type": "execute_result"
    }
   ],
   "source": [
    "railway_data[\"name\"].value_counts()"
   ]
  },
  {
   "cell_type": "code",
   "execution_count": 6,
   "id": "7bfdb99f",
   "metadata": {},
   "outputs": [],
   "source": [
    "station_counts = railway_data[\"name\"].value_counts().rename_axis(\"District\").reset_index(name=\"Number of Railway Stations\")\n",
    "population_data = population_data.merge(station_counts, on=\"District\", how=\"left\")\n",
    "population_data[\"Number of Railway Stations\"] = population_data[\"Number of Railway Stations\"].fillna(0).astype(int)"
   ]
  },
  {
   "cell_type": "code",
   "execution_count": 7,
   "id": "e5b49138",
   "metadata": {},
   "outputs": [],
   "source": [
    "bus_station_counts = bus_data[\"name\"].value_counts().rename_axis(\"District\").reset_index(name=\"Number of Bus Stations\")\n",
    "population_data = population_data.merge(bus_station_counts, on=\"District\", how=\"left\")\n",
    "population_data[\"Number of Bus Stations\"] = population_data[\"Number of Bus Stations\"].fillna(0).astype(int)"
   ]
  },
  {
   "cell_type": "code",
   "execution_count": 8,
   "id": "f45ecef6",
   "metadata": {},
   "outputs": [
    {
     "data": {
      "text/html": [
       "<div>\n",
       "<style scoped>\n",
       "    .dataframe tbody tr th:only-of-type {\n",
       "        vertical-align: middle;\n",
       "    }\n",
       "\n",
       "    .dataframe tbody tr th {\n",
       "        vertical-align: top;\n",
       "    }\n",
       "\n",
       "    .dataframe thead th {\n",
       "        text-align: right;\n",
       "    }\n",
       "</style>\n",
       "<table border=\"1\" class=\"dataframe\">\n",
       "  <thead>\n",
       "    <tr style=\"text-align: right;\">\n",
       "      <th></th>\n",
       "      <th>Year</th>\n",
       "      <th>District</th>\n",
       "      <th>Total</th>\n",
       "      <th>Number of Railway Stations</th>\n",
       "      <th>Number of Bus Stations</th>\n",
       "    </tr>\n",
       "  </thead>\n",
       "  <tbody>\n",
       "    <tr>\n",
       "      <th>0</th>\n",
       "      <td>2024</td>\n",
       "      <td>17</td>\n",
       "      <td>988369</td>\n",
       "      <td>25</td>\n",
       "      <td>547</td>\n",
       "    </tr>\n",
       "    <tr>\n",
       "      <th>1</th>\n",
       "      <td>2024</td>\n",
       "      <td>25</td>\n",
       "      <td>789033</td>\n",
       "      <td>10</td>\n",
       "      <td>515</td>\n",
       "    </tr>\n",
       "    <tr>\n",
       "      <th>2</th>\n",
       "      <td>2024</td>\n",
       "      <td>27</td>\n",
       "      <td>749356</td>\n",
       "      <td>6</td>\n",
       "      <td>404</td>\n",
       "    </tr>\n",
       "    <tr>\n",
       "      <th>3</th>\n",
       "      <td>2024</td>\n",
       "      <td>36</td>\n",
       "      <td>727819</td>\n",
       "      <td>8</td>\n",
       "      <td>139</td>\n",
       "    </tr>\n",
       "    <tr>\n",
       "      <th>4</th>\n",
       "      <td>2024</td>\n",
       "      <td>4</td>\n",
       "      <td>713594</td>\n",
       "      <td>17</td>\n",
       "      <td>303</td>\n",
       "    </tr>\n",
       "  </tbody>\n",
       "</table>\n",
       "</div>"
      ],
      "text/plain": [
       "   Year  District   Total  Number of Railway Stations  Number of Bus Stations\n",
       "0  2024        17  988369                          25                     547\n",
       "1  2024        25  789033                          10                     515\n",
       "2  2024        27  749356                           6                     404\n",
       "3  2024        36  727819                           8                     139\n",
       "4  2024         4  713594                          17                     303"
      ]
     },
     "execution_count": 8,
     "metadata": {},
     "output_type": "execute_result"
    }
   ],
   "source": [
    "population_data.head()"
   ]
  },
  {
   "cell_type": "code",
   "execution_count": 9,
   "id": "ec22f6c6",
   "metadata": {},
   "outputs": [],
   "source": [
    "population_data.to_csv(\"../data/district_population_rail.csv\", index=False)"
   ]
  }
 ],
 "metadata": {
  "kernelspec": {
   "display_name": "base",
   "language": "python",
   "name": "python3"
  },
  "language_info": {
   "codemirror_mode": {
    "name": "ipython",
    "version": 3
   },
   "file_extension": ".py",
   "mimetype": "text/x-python",
   "name": "python",
   "nbconvert_exporter": "python",
   "pygments_lexer": "ipython3",
   "version": "3.12.3"
  }
 },
 "nbformat": 4,
 "nbformat_minor": 5
}

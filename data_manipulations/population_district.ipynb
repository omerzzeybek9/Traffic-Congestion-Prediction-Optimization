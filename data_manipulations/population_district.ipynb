{
 "cells": [
  {
   "cell_type": "code",
   "execution_count": 2,
   "id": "94333c52",
   "metadata": {},
   "outputs": [],
   "source": [
    "import pandas as pd"
   ]
  },
  {
   "cell_type": "code",
   "execution_count": 3,
   "id": "e2098fb0",
   "metadata": {},
   "outputs": [],
   "source": [
    "population_data = pd.read_csv(\"../original_data/populations_by_districts.csv\")\n",
    "railway_data = pd.read_csv(\"../data/rail_system_poi_data_with_districts.csv\")\n",
    "bus_data = pd.read_csv(\"../data/bus_data_with_districts.csv\")"
   ]
  },
  {
   "cell_type": "code",
   "execution_count": 4,
   "id": "3ba02912",
   "metadata": {},
   "outputs": [],
   "source": [
    "code_dict = {\n",
    "    \"Adalar\": 0,\n",
    "    \"Arnavutkoy\": 1,\n",
    "    \"Atasehir\": 2,\n",
    "    \"Avcilar\": 3,\n",
    "    \"Bagcilar\": 4,\n",
    "    \"Bahcelievler\": 5,\n",
    "    \"Bakirkoy\": 6,\n",
    "    \"Basaksehir\": 7,\n",
    "    \"Bayrampasa\": 8,\n",
    "    \"Besiktas\": 9,\n",
    "    \"Beykoz\": 10,\n",
    "    \"Beylikduzu\": 11,\n",
    "    \"Beyoglu\": 12,\n",
    "    \"Catalca\": 13,\n",
    "    \"Cekmekoy\": 38,\n",
    "    \"Esenler\": 15,\n",
    "    \"Esenyurt\": 16,\n",
    "    \"Eyupsultan\": 17,\n",
    "    \"Fatih\": 18,\n",
    "    \"Gaziosmanpasa\": 19,\n",
    "    \"Gungoren\": 20,\n",
    "    \"Kadikoy\": 21,\n",
    "    \"Kagithane\": 22,\n",
    "    \"Kartal\": 23,\n",
    "    \"Kucukcekmece\": 24,\n",
    "    \"Maltepe\": 25,\n",
    "    \"Pendik\": 26,\n",
    "    \"Sancaktepe\": 27,\n",
    "    \"Sariyer\": 28,\n",
    "    \"Sile\": 29,\n",
    "    \"Sisli\": 30,\n",
    "    \"Sultanbeyli\": 31,\n",
    "    \"Sultangazi\": 32,\n",
    "    \"Tuzla\": 33,\n",
    "    \"Umraniye\": 34,\n",
    "    \"Uskudar\": 35,\n",
    "    \"Zeytinburnu\": 36,\n",
    "    \"Silivri\": 37\n",
    "}\n"
   ]
  },
  {
   "cell_type": "code",
   "execution_count": 5,
   "id": "7bd0d096",
   "metadata": {},
   "outputs": [],
   "source": [
    "population_data[\"District\"] = population_data[\"District\"].apply(lambda x: code_dict[x] if x in code_dict else None).astype(\"Int64\")"
   ]
  },
  {
   "cell_type": "code",
   "execution_count": 6,
   "id": "9105f476",
   "metadata": {},
   "outputs": [
    {
     "data": {
      "text/plain": [
       "name\n",
       "18    27\n",
       "21    27\n",
       "17    25\n",
       "34    20\n",
       "6     19\n",
       "24    18\n",
       "7     17\n",
       "26    17\n",
       "4     17\n",
       "12    11\n",
       "15    10\n",
       "25    10\n",
       "23     9\n",
       "30     9\n",
       "5      9\n",
       "35     9\n",
       "9      8\n",
       "19     8\n",
       "2      8\n",
       "36     8\n",
       "28     7\n",
       "32     6\n",
       "20     6\n",
       "27     6\n",
       "22     5\n",
       "1      5\n",
       "8      4\n",
       "33     4\n",
       "16     3\n",
       "31     2\n",
       "3      2\n",
       "38     1\n",
       "Name: count, dtype: int64"
      ]
     },
     "execution_count": 6,
     "metadata": {},
     "output_type": "execute_result"
    }
   ],
   "source": [
    "railway_data[\"name\"].value_counts()"
   ]
  },
  {
   "cell_type": "code",
   "execution_count": 7,
   "id": "7bfdb99f",
   "metadata": {},
   "outputs": [],
   "source": [
    "station_counts = railway_data[\"name\"].value_counts().rename_axis(\"District\").reset_index(name=\"Number of Railway Stations\")\n",
    "population_data = population_data.merge(station_counts, on=\"District\", how=\"left\")\n",
    "population_data[\"Number of Railway Stations\"] = population_data[\"Number of Railway Stations\"].fillna(0).astype(int)"
   ]
  },
  {
   "cell_type": "code",
   "execution_count": 8,
   "id": "e5b49138",
   "metadata": {},
   "outputs": [],
   "source": [
    "bus_station_counts = bus_data[\"name\"].value_counts().rename_axis(\"District\").reset_index(name=\"Number of Bus Stations\")\n",
    "population_data = population_data.merge(bus_station_counts, on=\"District\", how=\"left\")\n",
    "population_data[\"Number of Bus Stations\"] = population_data[\"Number of Bus Stations\"].fillna(0).astype(int)"
   ]
  },
  {
   "cell_type": "code",
   "execution_count": 9,
   "id": "f45ecef6",
   "metadata": {},
   "outputs": [
    {
     "data": {
      "text/html": [
       "<div>\n",
       "<style scoped>\n",
       "    .dataframe tbody tr th:only-of-type {\n",
       "        vertical-align: middle;\n",
       "    }\n",
       "\n",
       "    .dataframe tbody tr th {\n",
       "        vertical-align: top;\n",
       "    }\n",
       "\n",
       "    .dataframe thead th {\n",
       "        text-align: right;\n",
       "    }\n",
       "</style>\n",
       "<table border=\"1\" class=\"dataframe\">\n",
       "  <thead>\n",
       "    <tr style=\"text-align: right;\">\n",
       "      <th></th>\n",
       "      <th>Year</th>\n",
       "      <th>District</th>\n",
       "      <th>Total</th>\n",
       "      <th>Number of Railway Stations</th>\n",
       "      <th>Number of Bus Stations</th>\n",
       "    </tr>\n",
       "  </thead>\n",
       "  <tbody>\n",
       "    <tr>\n",
       "      <th>0</th>\n",
       "      <td>2024</td>\n",
       "      <td>16</td>\n",
       "      <td>988369</td>\n",
       "      <td>3</td>\n",
       "      <td>440</td>\n",
       "    </tr>\n",
       "    <tr>\n",
       "      <th>1</th>\n",
       "      <td>2024</td>\n",
       "      <td>24</td>\n",
       "      <td>789033</td>\n",
       "      <td>18</td>\n",
       "      <td>451</td>\n",
       "    </tr>\n",
       "    <tr>\n",
       "      <th>2</th>\n",
       "      <td>2024</td>\n",
       "      <td>26</td>\n",
       "      <td>749356</td>\n",
       "      <td>17</td>\n",
       "      <td>800</td>\n",
       "    </tr>\n",
       "    <tr>\n",
       "      <th>3</th>\n",
       "      <td>2024</td>\n",
       "      <td>34</td>\n",
       "      <td>727819</td>\n",
       "      <td>20</td>\n",
       "      <td>718</td>\n",
       "    </tr>\n",
       "    <tr>\n",
       "      <th>4</th>\n",
       "      <td>2024</td>\n",
       "      <td>4</td>\n",
       "      <td>713594</td>\n",
       "      <td>17</td>\n",
       "      <td>303</td>\n",
       "    </tr>\n",
       "  </tbody>\n",
       "</table>\n",
       "</div>"
      ],
      "text/plain": [
       "   Year  District   Total  Number of Railway Stations  Number of Bus Stations\n",
       "0  2024        16  988369                           3                     440\n",
       "1  2024        24  789033                          18                     451\n",
       "2  2024        26  749356                          17                     800\n",
       "3  2024        34  727819                          20                     718\n",
       "4  2024         4  713594                          17                     303"
      ]
     },
     "execution_count": 9,
     "metadata": {},
     "output_type": "execute_result"
    }
   ],
   "source": [
    "population_data.head()"
   ]
  },
  {
   "cell_type": "code",
   "execution_count": 10,
   "id": "ec22f6c6",
   "metadata": {},
   "outputs": [],
   "source": [
    "population_data.to_csv(\"../data/district_population_rail.csv\", index=False)"
   ]
  }
 ],
 "metadata": {
  "kernelspec": {
   "display_name": "base",
   "language": "python",
   "name": "python3"
  },
  "language_info": {
   "codemirror_mode": {
    "name": "ipython",
    "version": 3
   },
   "file_extension": ".py",
   "mimetype": "text/x-python",
   "name": "python",
   "nbconvert_exporter": "python",
   "pygments_lexer": "ipython3",
   "version": "3.12.3"
  }
 },
 "nbformat": 4,
 "nbformat_minor": 5
}

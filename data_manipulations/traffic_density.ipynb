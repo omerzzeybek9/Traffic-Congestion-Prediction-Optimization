{
 "cells": [
  {
   "cell_type": "code",
   "execution_count": 1,
   "metadata": {},
   "outputs": [],
   "source": [
    "import pandas as pd"
   ]
  },
  {
   "cell_type": "code",
   "execution_count": 2,
   "metadata": {},
   "outputs": [],
   "source": [
    "jan_25 = pd.read_csv(\"../original_data/traffic_density_202501.csv\")"
   ]
  },
  {
   "cell_type": "code",
   "execution_count": 3,
   "metadata": {},
   "outputs": [
    {
     "data": {
      "text/html": [
       "<div>\n",
       "<style scoped>\n",
       "    .dataframe tbody tr th:only-of-type {\n",
       "        vertical-align: middle;\n",
       "    }\n",
       "\n",
       "    .dataframe tbody tr th {\n",
       "        vertical-align: top;\n",
       "    }\n",
       "\n",
       "    .dataframe thead th {\n",
       "        text-align: right;\n",
       "    }\n",
       "</style>\n",
       "<table border=\"1\" class=\"dataframe\">\n",
       "  <thead>\n",
       "    <tr style=\"text-align: right;\">\n",
       "      <th></th>\n",
       "      <th>DATE_TIME</th>\n",
       "      <th>LATITUDE</th>\n",
       "      <th>LONGITUDE</th>\n",
       "      <th>GEOHASH</th>\n",
       "      <th>MINIMUM_SPEED</th>\n",
       "      <th>MAXIMUM_SPEED</th>\n",
       "      <th>AVERAGE_SPEED</th>\n",
       "      <th>NUMBER_OF_VEHICLES</th>\n",
       "    </tr>\n",
       "  </thead>\n",
       "  <tbody>\n",
       "    <tr>\n",
       "      <th>0</th>\n",
       "      <td>2025-01-01 00:00:00</td>\n",
       "      <td>41.157532</td>\n",
       "      <td>28.888550</td>\n",
       "      <td>sxkd1k</td>\n",
       "      <td>58</td>\n",
       "      <td>107</td>\n",
       "      <td>79</td>\n",
       "      <td>11</td>\n",
       "    </tr>\n",
       "    <tr>\n",
       "      <th>1</th>\n",
       "      <td>2025-01-01 00:00:00</td>\n",
       "      <td>41.003723</td>\n",
       "      <td>29.306030</td>\n",
       "      <td>sxkc6b</td>\n",
       "      <td>62</td>\n",
       "      <td>104</td>\n",
       "      <td>81</td>\n",
       "      <td>19</td>\n",
       "    </tr>\n",
       "    <tr>\n",
       "      <th>2</th>\n",
       "      <td>2025-01-01 00:00:00</td>\n",
       "      <td>41.009216</td>\n",
       "      <td>29.295044</td>\n",
       "      <td>sxkc69</td>\n",
       "      <td>77</td>\n",
       "      <td>103</td>\n",
       "      <td>88</td>\n",
       "      <td>7</td>\n",
       "    </tr>\n",
       "    <tr>\n",
       "      <th>3</th>\n",
       "      <td>2025-01-01 00:00:00</td>\n",
       "      <td>41.003723</td>\n",
       "      <td>29.295044</td>\n",
       "      <td>sxkc68</td>\n",
       "      <td>64</td>\n",
       "      <td>110</td>\n",
       "      <td>85</td>\n",
       "      <td>19</td>\n",
       "    </tr>\n",
       "    <tr>\n",
       "      <th>4</th>\n",
       "      <td>2025-01-01 00:00:00</td>\n",
       "      <td>41.020203</td>\n",
       "      <td>29.273071</td>\n",
       "      <td>sxkc65</td>\n",
       "      <td>56</td>\n",
       "      <td>127</td>\n",
       "      <td>90</td>\n",
       "      <td>73</td>\n",
       "    </tr>\n",
       "  </tbody>\n",
       "</table>\n",
       "</div>"
      ],
      "text/plain": [
       "             DATE_TIME   LATITUDE  LONGITUDE GEOHASH  MINIMUM_SPEED  \\\n",
       "0  2025-01-01 00:00:00  41.157532  28.888550  sxkd1k             58   \n",
       "1  2025-01-01 00:00:00  41.003723  29.306030  sxkc6b             62   \n",
       "2  2025-01-01 00:00:00  41.009216  29.295044  sxkc69             77   \n",
       "3  2025-01-01 00:00:00  41.003723  29.295044  sxkc68             64   \n",
       "4  2025-01-01 00:00:00  41.020203  29.273071  sxkc65             56   \n",
       "\n",
       "   MAXIMUM_SPEED  AVERAGE_SPEED  NUMBER_OF_VEHICLES  \n",
       "0            107             79                  11  \n",
       "1            104             81                  19  \n",
       "2            103             88                   7  \n",
       "3            110             85                  19  \n",
       "4            127             90                  73  "
      ]
     },
     "execution_count": 3,
     "metadata": {},
     "output_type": "execute_result"
    }
   ],
   "source": [
    "jan_25.head()"
   ]
  },
  {
   "cell_type": "code",
   "execution_count": 4,
   "metadata": {},
   "outputs": [],
   "source": [
    "jan_25 = jan_25.drop(columns=[\"GEOHASH\", \"MINIMUM_SPEED\", \"MAXIMUM_SPEED\"])"
   ]
  },
  {
   "cell_type": "code",
   "execution_count": 5,
   "metadata": {},
   "outputs": [
    {
     "name": "stdout",
     "output_type": "stream",
     "text": [
      "           LATITUDE     LONGITUDE  AVERAGE_SPEED  NUMBER_OF_VEHICLES\n",
      "count  1.763963e+06  1.763963e+06   1.763963e+06        1.763963e+06\n",
      "mean   4.106263e+01  2.888683e+01   5.617976e+01        8.896445e+01\n",
      "std    1.008242e-01  3.561361e-01   2.564569e+01        1.120803e+02\n",
      "min    4.076752e+01  2.796570e+01   2.000000e+00        1.000000e+00\n",
      "25%    4.099823e+01  2.869080e+01   3.300000e+01        1.700000e+01\n",
      "50%    4.105865e+01  2.893250e+01   5.400000e+01        4.900000e+01\n",
      "75%    4.113007e+01  2.914124e+01   7.900000e+01        1.150000e+02\n",
      "max    4.134430e+01  2.963562e+01   1.920000e+02        1.480000e+03\n",
      "<class 'pandas.core.frame.DataFrame'>\n",
      "RangeIndex: 1763963 entries, 0 to 1763962\n",
      "Data columns (total 5 columns):\n",
      " #   Column              Dtype  \n",
      "---  ------              -----  \n",
      " 0   DATE_TIME           object \n",
      " 1   LATITUDE            float64\n",
      " 2   LONGITUDE           float64\n",
      " 3   AVERAGE_SPEED       int64  \n",
      " 4   NUMBER_OF_VEHICLES  int64  \n",
      "dtypes: float64(2), int64(2), object(1)\n",
      "memory usage: 67.3+ MB\n"
     ]
    }
   ],
   "source": [
    "jan_25.head()\n",
    "print(jan_25.describe())\n",
    "jan_25.info()"
   ]
  },
  {
   "cell_type": "code",
   "execution_count": 6,
   "metadata": {
    "vscode": {
     "languageId": "javascript"
    }
   },
   "outputs": [
    {
     "name": "stdout",
     "output_type": "stream",
     "text": [
      "         DATE   LATITUDE  LONGITUDE  AVERAGE_SPEED  NUMBER_OF_VEHICLES\n",
      "0  2025-01-01  40.767517  29.426880      35.291667                 474\n",
      "1  2025-01-01  40.773010  29.415894      63.875000                 210\n",
      "2  2025-01-01  40.773010  29.426880      53.291667                 541\n",
      "3  2025-01-01  40.778503  29.415894      63.791667                 586\n",
      "4  2025-01-01  40.783997  29.415894      55.291667                2106\n",
      "           LATITUDE     LONGITUDE  AVERAGE_SPEED  NUMBER_OF_VEHICLES\n",
      "count  1.763963e+06  1.763963e+06   1.763963e+06        1.763963e+06\n",
      "mean   4.106263e+01  2.888683e+01   5.617976e+01        8.896445e+01\n",
      "std    1.008242e-01  3.561361e-01   2.564569e+01        1.120803e+02\n",
      "min    4.076752e+01  2.796570e+01   2.000000e+00        1.000000e+00\n",
      "25%    4.099823e+01  2.869080e+01   3.300000e+01        1.700000e+01\n",
      "50%    4.105865e+01  2.893250e+01   5.400000e+01        4.900000e+01\n",
      "75%    4.113007e+01  2.914124e+01   7.900000e+01        1.150000e+02\n",
      "max    4.134430e+01  2.963562e+01   1.920000e+02        1.480000e+03\n",
      "<class 'pandas.core.frame.DataFrame'>\n",
      "RangeIndex: 1763963 entries, 0 to 1763962\n",
      "Data columns (total 5 columns):\n",
      " #   Column              Dtype  \n",
      "---  ------              -----  \n",
      " 0   LATITUDE            float64\n",
      " 1   LONGITUDE           float64\n",
      " 2   AVERAGE_SPEED       int64  \n",
      " 3   NUMBER_OF_VEHICLES  int64  \n",
      " 4   DATE                object \n",
      "dtypes: float64(2), int64(2), object(1)\n",
      "memory usage: 67.3+ MB\n"
     ]
    }
   ],
   "source": [
    "jan_25['DATE'] = pd.to_datetime(jan_25['DATE_TIME']).dt.date\n",
    "jan_25.drop(columns = ['DATE_TIME'], inplace = True)\n",
    "\n",
    "daily_data = jan_25.groupby(['DATE', 'LATITUDE', 'LONGITUDE']).agg({\n",
    "    'AVERAGE_SPEED': 'mean',\n",
    "    'NUMBER_OF_VEHICLES': 'sum'\n",
    "}).reset_index()\n",
    "print(daily_data.head())\n",
    "print(jan_25.describe())\n",
    "jan_25.info()"
   ]
  },
  {
   "cell_type": "code",
   "execution_count": 7,
   "metadata": {},
   "outputs": [],
   "source": [
    "import pandas as pd\n",
    "import geopandas as gpd\n",
    "from shapely.geometry import Point\n",
    "\n",
    "districts = gpd.read_file(\"../data/istanbul-districts.json\") \n",
    "\n",
    "points = gpd.GeoDataFrame(\n",
    "    jan_25,\n",
    "    geometry=gpd.points_from_xy(jan_25[\"LONGITUDE\"], jan_25[\"LATITUDE\"]),\n",
    "    crs=\"EPSG:4326\"\n",
    ")\n",
    "\n",
    "points_with_district = gpd.sjoin(\n",
    "    points,\n",
    "    districts[[\"name\", \"geometry\"]].rename(columns={\"name\": \"DISTRICT\"}),\n",
    "    how=\"left\",\n",
    "    predicate=\"within\"\n",
    ")\n",
    "\n",
    "jan_25[\"DISTRICT\"] = points_with_district[\"DISTRICT\"]"
   ]
  },
  {
   "cell_type": "code",
   "execution_count": 8,
   "metadata": {},
   "outputs": [
    {
     "data": {
      "text/html": [
       "<div>\n",
       "<style scoped>\n",
       "    .dataframe tbody tr th:only-of-type {\n",
       "        vertical-align: middle;\n",
       "    }\n",
       "\n",
       "    .dataframe tbody tr th {\n",
       "        vertical-align: top;\n",
       "    }\n",
       "\n",
       "    .dataframe thead th {\n",
       "        text-align: right;\n",
       "    }\n",
       "</style>\n",
       "<table border=\"1\" class=\"dataframe\">\n",
       "  <thead>\n",
       "    <tr style=\"text-align: right;\">\n",
       "      <th></th>\n",
       "      <th>LATITUDE</th>\n",
       "      <th>LONGITUDE</th>\n",
       "      <th>AVERAGE_SPEED</th>\n",
       "      <th>NUMBER_OF_VEHICLES</th>\n",
       "      <th>DATE</th>\n",
       "      <th>DISTRICT</th>\n",
       "    </tr>\n",
       "  </thead>\n",
       "  <tbody>\n",
       "    <tr>\n",
       "      <th>0</th>\n",
       "      <td>41.157532</td>\n",
       "      <td>28.888550</td>\n",
       "      <td>79</td>\n",
       "      <td>11</td>\n",
       "      <td>2025-01-01</td>\n",
       "      <td>Eyüpsultan</td>\n",
       "    </tr>\n",
       "    <tr>\n",
       "      <th>1</th>\n",
       "      <td>41.003723</td>\n",
       "      <td>29.306030</td>\n",
       "      <td>81</td>\n",
       "      <td>19</td>\n",
       "      <td>2025-01-01</td>\n",
       "      <td>Pendik</td>\n",
       "    </tr>\n",
       "    <tr>\n",
       "      <th>2</th>\n",
       "      <td>41.009216</td>\n",
       "      <td>29.295044</td>\n",
       "      <td>88</td>\n",
       "      <td>7</td>\n",
       "      <td>2025-01-01</td>\n",
       "      <td>Pendik</td>\n",
       "    </tr>\n",
       "    <tr>\n",
       "      <th>3</th>\n",
       "      <td>41.003723</td>\n",
       "      <td>29.295044</td>\n",
       "      <td>85</td>\n",
       "      <td>19</td>\n",
       "      <td>2025-01-01</td>\n",
       "      <td>Pendik</td>\n",
       "    </tr>\n",
       "    <tr>\n",
       "      <th>4</th>\n",
       "      <td>41.020203</td>\n",
       "      <td>29.273071</td>\n",
       "      <td>90</td>\n",
       "      <td>73</td>\n",
       "      <td>2025-01-01</td>\n",
       "      <td>Sancaktepe</td>\n",
       "    </tr>\n",
       "  </tbody>\n",
       "</table>\n",
       "</div>"
      ],
      "text/plain": [
       "    LATITUDE  LONGITUDE  AVERAGE_SPEED  NUMBER_OF_VEHICLES        DATE  \\\n",
       "0  41.157532  28.888550             79                  11  2025-01-01   \n",
       "1  41.003723  29.306030             81                  19  2025-01-01   \n",
       "2  41.009216  29.295044             88                   7  2025-01-01   \n",
       "3  41.003723  29.295044             85                  19  2025-01-01   \n",
       "4  41.020203  29.273071             90                  73  2025-01-01   \n",
       "\n",
       "     DISTRICT  \n",
       "0  Eyüpsultan  \n",
       "1      Pendik  \n",
       "2      Pendik  \n",
       "3      Pendik  \n",
       "4  Sancaktepe  "
      ]
     },
     "execution_count": 8,
     "metadata": {},
     "output_type": "execute_result"
    }
   ],
   "source": [
    "jan_25.head()"
   ]
  },
  {
   "cell_type": "code",
   "execution_count": 9,
   "metadata": {},
   "outputs": [],
   "source": [
    "code_dict = {\n",
    "    \"Adalar\": 0,\n",
    "    \"Arnavutköy\": 1,\n",
    "    \"Ataşehir\": 2,\n",
    "    \"Avcılar\": 3,\n",
    "    \"Bağcılar\": 4,\n",
    "    \"Bahçelievler\": 5,\n",
    "    \"Bakırköy\": 6,\n",
    "    \"Başakşehir\": 7,\n",
    "    \"Bayrampaşa\": 8,\n",
    "    \"Beşiktaş\": 9,\n",
    "    \"Beykoz\": 10,\n",
    "    \"Beylikdüzü\": 11,\n",
    "    \"Beyoğlu\": 12,\n",
    "    \"Çatalca\": 13,\n",
    "    \"Çekmeköy\": 14,\n",
    "    \"Esenler\": 15,\n",
    "    \"Esenyurt\": 16,\n",
    "    \"Eyüpsultan\": 17,\n",
    "    \"Fatih\": 18,\n",
    "    \"Gaziosmanpaşa\": 19,\n",
    "    \"Güngören\": 20,\n",
    "    \"Kadıköy\": 21,\n",
    "    \"Kağıthane\": 22,\n",
    "    \"Kartal\": 23,\n",
    "    \"Küçükçekmece\": 24,\n",
    "    \"Maltepe\": 25,\n",
    "    \"Pendik\": 26,\n",
    "    \"Sancaktepe\": 27,\n",
    "    \"Sarıyer\": 28,\n",
    "    \"Şile\": 29,\n",
    "    \"Şişli\": 30,\n",
    "    \"Sultanbeyli\": 31,\n",
    "    \"Sultangazi\": 32,\n",
    "    \"Tuzla\": 33,\n",
    "    \"Ümraniye\": 34,\n",
    "    \"Üsküdar\": 35,\n",
    "    \"Zeytinburnu\": 36,\n",
    "    \"Silivri\": 37,\n",
    "    \"Çekmeköy\": 38\n",
    "}"
   ]
  },
  {
   "cell_type": "code",
   "execution_count": 10,
   "metadata": {},
   "outputs": [],
   "source": [
    "jan_25[\"DISTRICT\"] = jan_25[\"DISTRICT\"].apply(lambda x: code_dict[x] if x in code_dict else None).astype(\"Int64\")\n",
    "\n",
    "jan_25.dropna(subset=[\"DISTRICT\"], inplace=True)"
   ]
  },
  {
   "cell_type": "code",
   "execution_count": 11,
   "metadata": {},
   "outputs": [],
   "source": [
    "jan_25.head()\n",
    "jan_25.drop(columns=[\"LATITUDE\", \"LONGITUDE\"], inplace=True)"
   ]
  },
  {
   "cell_type": "code",
   "execution_count": 12,
   "metadata": {},
   "outputs": [
    {
     "name": "stdout",
     "output_type": "stream",
     "text": [
      "<class 'pandas.core.frame.DataFrame'>\n",
      "Index: 1585723 entries, 0 to 1763962\n",
      "Data columns (total 4 columns):\n",
      " #   Column              Non-Null Count    Dtype \n",
      "---  ------              --------------    ----- \n",
      " 0   AVERAGE_SPEED       1585723 non-null  int64 \n",
      " 1   NUMBER_OF_VEHICLES  1585723 non-null  int64 \n",
      " 2   DATE                1585723 non-null  object\n",
      " 3   DISTRICT            1585723 non-null  Int64 \n",
      "dtypes: Int64(1), int64(2), object(1)\n",
      "memory usage: 62.0+ MB\n"
     ]
    }
   ],
   "source": [
    "jan_25.info()"
   ]
  },
  {
   "cell_type": "code",
   "execution_count": 13,
   "metadata": {},
   "outputs": [
    {
     "data": {
      "text/html": [
       "<div>\n",
       "<style scoped>\n",
       "    .dataframe tbody tr th:only-of-type {\n",
       "        vertical-align: middle;\n",
       "    }\n",
       "\n",
       "    .dataframe tbody tr th {\n",
       "        vertical-align: top;\n",
       "    }\n",
       "\n",
       "    .dataframe thead th {\n",
       "        text-align: right;\n",
       "    }\n",
       "</style>\n",
       "<table border=\"1\" class=\"dataframe\">\n",
       "  <thead>\n",
       "    <tr style=\"text-align: right;\">\n",
       "      <th></th>\n",
       "      <th>AVERAGE_SPEED</th>\n",
       "      <th>NUMBER_OF_VEHICLES</th>\n",
       "      <th>DATE</th>\n",
       "      <th>DISTRICT</th>\n",
       "    </tr>\n",
       "  </thead>\n",
       "  <tbody>\n",
       "    <tr>\n",
       "      <th>0</th>\n",
       "      <td>79</td>\n",
       "      <td>11</td>\n",
       "      <td>2025-01-01</td>\n",
       "      <td>17</td>\n",
       "    </tr>\n",
       "    <tr>\n",
       "      <th>1</th>\n",
       "      <td>81</td>\n",
       "      <td>19</td>\n",
       "      <td>2025-01-01</td>\n",
       "      <td>26</td>\n",
       "    </tr>\n",
       "    <tr>\n",
       "      <th>2</th>\n",
       "      <td>88</td>\n",
       "      <td>7</td>\n",
       "      <td>2025-01-01</td>\n",
       "      <td>26</td>\n",
       "    </tr>\n",
       "    <tr>\n",
       "      <th>3</th>\n",
       "      <td>85</td>\n",
       "      <td>19</td>\n",
       "      <td>2025-01-01</td>\n",
       "      <td>26</td>\n",
       "    </tr>\n",
       "    <tr>\n",
       "      <th>4</th>\n",
       "      <td>90</td>\n",
       "      <td>73</td>\n",
       "      <td>2025-01-01</td>\n",
       "      <td>27</td>\n",
       "    </tr>\n",
       "  </tbody>\n",
       "</table>\n",
       "</div>"
      ],
      "text/plain": [
       "   AVERAGE_SPEED  NUMBER_OF_VEHICLES        DATE  DISTRICT\n",
       "0             79                  11  2025-01-01        17\n",
       "1             81                  19  2025-01-01        26\n",
       "2             88                   7  2025-01-01        26\n",
       "3             85                  19  2025-01-01        26\n",
       "4             90                  73  2025-01-01        27"
      ]
     },
     "execution_count": 13,
     "metadata": {},
     "output_type": "execute_result"
    }
   ],
   "source": [
    "jan_25.head()"
   ]
  },
  {
   "cell_type": "code",
   "execution_count": 14,
   "metadata": {},
   "outputs": [
    {
     "name": "stdout",
     "output_type": "stream",
     "text": [
      "       NUMBER_OF_VEHICLES  AVERAGE_SPEED\n",
      "count        1.585723e+06   1.585723e+06\n",
      "mean         9.115278e+01   5.525047e+01\n",
      "std          1.145804e+02   2.589347e+01\n",
      "min          1.000000e+00   2.000000e+00\n",
      "25%          1.800000e+01   3.200000e+01\n",
      "50%          5.000000e+01   5.200000e+01\n",
      "75%          1.180000e+02   7.900000e+01\n",
      "max          1.480000e+03   1.920000e+02\n"
     ]
    }
   ],
   "source": [
    "print(jan_25[['NUMBER_OF_VEHICLES', 'AVERAGE_SPEED']].describe())"
   ]
  },
  {
   "cell_type": "code",
   "execution_count": 15,
   "metadata": {},
   "outputs": [],
   "source": [
    "q_low,  q_hi   = 0.05, 0.95\n",
    "nv_lo, nv_hi   = jan_25[\"NUMBER_OF_VEHICLES\"].quantile([q_low, q_hi])\n",
    "sp_lo, sp_hi   = jan_25[\"AVERAGE_SPEED\"].quantile([q_low, q_hi])\n",
    "\n",
    "jan_25[\"v_norm\"]   = ((jan_25[\"NUMBER_OF_VEHICLES\"] - nv_lo) / (nv_hi - nv_lo)).clip(0, 1)\n",
    "jan_25[\"s_norm\"]   = ((jan_25[\"AVERAGE_SPEED\"]     - sp_lo) / (sp_hi - sp_lo)).clip(0, 1)"
   ]
  },
  {
   "cell_type": "code",
   "execution_count": 16,
   "metadata": {},
   "outputs": [],
   "source": [
    "jan_25[\"s_inv\"] = 1 - jan_25[\"s_norm\"]"
   ]
  },
  {
   "cell_type": "code",
   "execution_count": 17,
   "metadata": {},
   "outputs": [],
   "source": [
    "jan_25[\"congestion\"] = 0.5*jan_25[\"v_norm\"] + 0.5*jan_25[\"s_inv\"]"
   ]
  },
  {
   "cell_type": "code",
   "execution_count": 18,
   "metadata": {},
   "outputs": [],
   "source": [
    "jan_25[\"congestion\"] = jan_25[\"congestion\"].clip(0, 1)"
   ]
  },
  {
   "cell_type": "code",
   "execution_count": 19,
   "metadata": {},
   "outputs": [],
   "source": [
    "jan_25.head()\n",
    "jan_25.drop(columns=[\"NUMBER_OF_VEHICLES\", \"AVERAGE_SPEED\", \"v_norm\", \"s_norm\", \"s_inv\"], inplace=True)"
   ]
  },
  {
   "cell_type": "code",
   "execution_count": 20,
   "metadata": {},
   "outputs": [
    {
     "data": {
      "text/html": [
       "<div>\n",
       "<style scoped>\n",
       "    .dataframe tbody tr th:only-of-type {\n",
       "        vertical-align: middle;\n",
       "    }\n",
       "\n",
       "    .dataframe tbody tr th {\n",
       "        vertical-align: top;\n",
       "    }\n",
       "\n",
       "    .dataframe thead th {\n",
       "        text-align: right;\n",
       "    }\n",
       "</style>\n",
       "<table border=\"1\" class=\"dataframe\">\n",
       "  <thead>\n",
       "    <tr style=\"text-align: right;\">\n",
       "      <th></th>\n",
       "      <th>DATE</th>\n",
       "      <th>DISTRICT</th>\n",
       "      <th>congestion</th>\n",
       "    </tr>\n",
       "  </thead>\n",
       "  <tbody>\n",
       "    <tr>\n",
       "      <th>0</th>\n",
       "      <td>2025-01-01</td>\n",
       "      <td>17</td>\n",
       "      <td>0.124264</td>\n",
       "    </tr>\n",
       "    <tr>\n",
       "      <th>1</th>\n",
       "      <td>2025-01-01</td>\n",
       "      <td>26</td>\n",
       "      <td>0.123529</td>\n",
       "    </tr>\n",
       "    <tr>\n",
       "      <th>2</th>\n",
       "      <td>2025-01-01</td>\n",
       "      <td>26</td>\n",
       "      <td>0.058843</td>\n",
       "    </tr>\n",
       "    <tr>\n",
       "      <th>3</th>\n",
       "      <td>2025-01-01</td>\n",
       "      <td>26</td>\n",
       "      <td>0.097213</td>\n",
       "    </tr>\n",
       "    <tr>\n",
       "      <th>4</th>\n",
       "      <td>2025-01-01</td>\n",
       "      <td>27</td>\n",
       "      <td>0.148169</td>\n",
       "    </tr>\n",
       "  </tbody>\n",
       "</table>\n",
       "</div>"
      ],
      "text/plain": [
       "         DATE  DISTRICT  congestion\n",
       "0  2025-01-01        17    0.124264\n",
       "1  2025-01-01        26    0.123529\n",
       "2  2025-01-01        26    0.058843\n",
       "3  2025-01-01        26    0.097213\n",
       "4  2025-01-01        27    0.148169"
      ]
     },
     "execution_count": 20,
     "metadata": {},
     "output_type": "execute_result"
    }
   ],
   "source": [
    "jan_25.head()"
   ]
  }
 ],
 "metadata": {
  "kernelspec": {
   "display_name": "base",
   "language": "python",
   "name": "python3"
  },
  "language_info": {
   "codemirror_mode": {
    "name": "ipython",
    "version": 3
   },
   "file_extension": ".py",
   "mimetype": "text/x-python",
   "name": "python",
   "nbconvert_exporter": "python",
   "pygments_lexer": "ipython3",
   "version": "3.12.7"
  }
 },
 "nbformat": 4,
 "nbformat_minor": 2
}

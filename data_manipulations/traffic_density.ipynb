{
 "cells": [
  {
   "cell_type": "code",
   "execution_count": 14,
   "metadata": {},
   "outputs": [],
   "source": [
    "import pandas as pd"
   ]
  },
  {
   "cell_type": "code",
   "execution_count": 15,
   "metadata": {},
   "outputs": [],
   "source": [
    "import glob\n",
    "\n",
    "# jan_25 = pd.read_csv(\"../original_data/traffic_density_202501.csv\")\n",
    "\n",
    "files_2024 = []\n",
    "for month in range(1, 13):\n",
    "    file_path = f\"../original_data/traffic_density_2024{month:02d}.csv\"\n",
    "    files_2024.append(pd.read_csv(file_path))\n",
    "\n",
    "combined_2024 = pd.concat(files_2024, ignore_index=True)"
   ]
  },
  {
   "cell_type": "code",
   "execution_count": 16,
   "metadata": {},
   "outputs": [
    {
     "data": {
      "text/html": [
       "<div>\n",
       "<style scoped>\n",
       "    .dataframe tbody tr th:only-of-type {\n",
       "        vertical-align: middle;\n",
       "    }\n",
       "\n",
       "    .dataframe tbody tr th {\n",
       "        vertical-align: top;\n",
       "    }\n",
       "\n",
       "    .dataframe thead th {\n",
       "        text-align: right;\n",
       "    }\n",
       "</style>\n",
       "<table border=\"1\" class=\"dataframe\">\n",
       "  <thead>\n",
       "    <tr style=\"text-align: right;\">\n",
       "      <th></th>\n",
       "      <th>DATE_TIME</th>\n",
       "      <th>LATITUDE</th>\n",
       "      <th>LONGITUDE</th>\n",
       "      <th>GEOHASH</th>\n",
       "      <th>MINIMUM_SPEED</th>\n",
       "      <th>MAXIMUM_SPEED</th>\n",
       "      <th>AVERAGE_SPEED</th>\n",
       "      <th>NUMBER_OF_VEHICLES</th>\n",
       "    </tr>\n",
       "  </thead>\n",
       "  <tbody>\n",
       "    <tr>\n",
       "      <th>0</th>\n",
       "      <td>2024-01-01 00:00:00</td>\n",
       "      <td>41.338806</td>\n",
       "      <td>27.965698</td>\n",
       "      <td>sx7ghm</td>\n",
       "      <td>31</td>\n",
       "      <td>121</td>\n",
       "      <td>76</td>\n",
       "      <td>9</td>\n",
       "    </tr>\n",
       "    <tr>\n",
       "      <th>1</th>\n",
       "      <td>2024-01-01 00:00:00</td>\n",
       "      <td>41.157532</td>\n",
       "      <td>29.174194</td>\n",
       "      <td>sxkdpu</td>\n",
       "      <td>69</td>\n",
       "      <td>89</td>\n",
       "      <td>81</td>\n",
       "      <td>2</td>\n",
       "    </tr>\n",
       "    <tr>\n",
       "      <th>2</th>\n",
       "      <td>2024-01-01 00:00:00</td>\n",
       "      <td>41.058655</td>\n",
       "      <td>28.361206</td>\n",
       "      <td>sxk1t6</td>\n",
       "      <td>22</td>\n",
       "      <td>145</td>\n",
       "      <td>80</td>\n",
       "      <td>23</td>\n",
       "    </tr>\n",
       "    <tr>\n",
       "      <th>3</th>\n",
       "      <td>2024-01-01 00:00:00</td>\n",
       "      <td>40.954285</td>\n",
       "      <td>29.086304</td>\n",
       "      <td>sxk8vz</td>\n",
       "      <td>1</td>\n",
       "      <td>75</td>\n",
       "      <td>30</td>\n",
       "      <td>45</td>\n",
       "    </tr>\n",
       "    <tr>\n",
       "      <th>4</th>\n",
       "      <td>2024-01-01 00:00:00</td>\n",
       "      <td>41.003723</td>\n",
       "      <td>28.855591</td>\n",
       "      <td>sxk928</td>\n",
       "      <td>4</td>\n",
       "      <td>37</td>\n",
       "      <td>20</td>\n",
       "      <td>29</td>\n",
       "    </tr>\n",
       "  </tbody>\n",
       "</table>\n",
       "</div>"
      ],
      "text/plain": [
       "             DATE_TIME   LATITUDE  LONGITUDE GEOHASH  MINIMUM_SPEED  \\\n",
       "0  2024-01-01 00:00:00  41.338806  27.965698  sx7ghm             31   \n",
       "1  2024-01-01 00:00:00  41.157532  29.174194  sxkdpu             69   \n",
       "2  2024-01-01 00:00:00  41.058655  28.361206  sxk1t6             22   \n",
       "3  2024-01-01 00:00:00  40.954285  29.086304  sxk8vz              1   \n",
       "4  2024-01-01 00:00:00  41.003723  28.855591  sxk928              4   \n",
       "\n",
       "   MAXIMUM_SPEED  AVERAGE_SPEED  NUMBER_OF_VEHICLES  \n",
       "0            121             76                   9  \n",
       "1             89             81                   2  \n",
       "2            145             80                  23  \n",
       "3             75             30                  45  \n",
       "4             37             20                  29  "
      ]
     },
     "execution_count": 16,
     "metadata": {},
     "output_type": "execute_result"
    }
   ],
   "source": [
    "# jan_25.head()\n",
    "\n",
    "combined_2024.head()"
   ]
  },
  {
   "cell_type": "code",
   "execution_count": 17,
   "metadata": {},
   "outputs": [],
   "source": [
    "# jan_25 = jan_25.drop(columns=[\"GEOHASH\", \"MINIMUM_SPEED\", \"MAXIMUM_SPEED\"])\n",
    "\n",
    "combined_2024 = combined_2024.drop(columns=[\"GEOHASH\", \"MINIMUM_SPEED\", \"MAXIMUM_SPEED\"])"
   ]
  },
  {
   "cell_type": "code",
   "execution_count": 18,
   "metadata": {},
   "outputs": [
    {
     "name": "stdout",
     "output_type": "stream",
     "text": [
      "           LATITUDE     LONGITUDE  AVERAGE_SPEED  NUMBER_OF_VEHICLES\n",
      "count  1.908077e+07  1.908077e+07   1.908077e+07        1.908077e+07\n",
      "mean   4.106297e+01  2.888705e+01   5.653555e+01        1.082300e+02\n",
      "std    1.009562e-01  3.565224e-01   2.590732e+01        1.392274e+02\n",
      "min    4.076752e+01  2.796570e+01   1.000000e+00        1.000000e+00\n",
      "25%    4.099823e+01  2.869080e+01   3.300000e+01        2.000000e+01\n",
      "50%    4.105865e+01  2.893250e+01   5.400000e+01        5.800000e+01\n",
      "75%    4.113007e+01  2.915222e+01   8.000000e+01        1.390000e+02\n",
      "max    4.134430e+01  2.963562e+01   2.100000e+02        2.056000e+03\n",
      "<class 'pandas.core.frame.DataFrame'>\n",
      "RangeIndex: 19080773 entries, 0 to 19080772\n",
      "Data columns (total 5 columns):\n",
      " #   Column              Dtype  \n",
      "---  ------              -----  \n",
      " 0   DATE_TIME           object \n",
      " 1   LATITUDE            float64\n",
      " 2   LONGITUDE           float64\n",
      " 3   AVERAGE_SPEED       int64  \n",
      " 4   NUMBER_OF_VEHICLES  int64  \n",
      "dtypes: float64(2), int64(2), object(1)\n",
      "memory usage: 727.9+ MB\n"
     ]
    }
   ],
   "source": [
    "# jan_25.head()\n",
    "# print(jan_25.describe())\n",
    "# jan_25.info()\n",
    "\n",
    "combined_2024.head()\n",
    "print(combined_2024.describe())\n",
    "combined_2024.info()"
   ]
  },
  {
   "cell_type": "code",
   "execution_count": 6,
   "metadata": {},
   "outputs": [
    {
     "name": "stdout",
     "output_type": "stream",
     "text": [
      "         DATE   LATITUDE  LONGITUDE  AVERAGE_SPEED  NUMBER_OF_VEHICLES\n",
      "0  2024-01-01  40.767517  29.426880      36.166667                 400\n",
      "1  2024-01-01  40.773010  29.415894      63.166667                 143\n",
      "2  2024-01-01  40.773010  29.426880      53.750000                 449\n",
      "3  2024-01-01  40.778503  29.415894      64.291667                 416\n",
      "4  2024-01-01  40.783997  29.415894      54.083333                1674\n",
      "            LATITUDE      LONGITUDE  AVERAGE_SPEED  NUMBER_OF_VEHICLES\n",
      "count  836072.000000  836072.000000  836072.000000       836072.000000\n",
      "mean       41.063980      28.887371      56.632581         2470.017105\n",
      "std         0.101374       0.358513      24.703159         2808.755172\n",
      "min        40.767517      27.965698       1.000000            1.000000\n",
      "25%        40.998230      28.690796      34.208333          572.000000\n",
      "50%        41.058655      28.932495      54.000000         1491.000000\n",
      "75%        41.135559      29.152222      79.304348         3274.000000\n",
      "max        41.344299      29.635620     192.000000        31379.000000\n",
      "<class 'pandas.core.frame.DataFrame'>\n",
      "RangeIndex: 836072 entries, 0 to 836071\n",
      "Data columns (total 5 columns):\n",
      " #   Column              Non-Null Count   Dtype  \n",
      "---  ------              --------------   -----  \n",
      " 0   DATE                836072 non-null  object \n",
      " 1   LATITUDE            836072 non-null  float64\n",
      " 2   LONGITUDE           836072 non-null  float64\n",
      " 3   AVERAGE_SPEED       836072 non-null  float64\n",
      " 4   NUMBER_OF_VEHICLES  836072 non-null  int64  \n",
      "dtypes: float64(3), int64(1), object(1)\n",
      "memory usage: 31.9+ MB\n"
     ]
    }
   ],
   "source": [
    "# jan_25['DATE'] = pd.to_datetime(jan_25['DATE_TIME']).dt.date\n",
    "# jan_25.drop(columns = ['DATE_TIME'], inplace = True)\n",
    "\n",
    "# daily_data = jan_25.groupby(['DATE', 'LATITUDE', 'LONGITUDE']).agg({\n",
    "#     'AVERAGE_SPEED': 'mean',\n",
    "#     'NUMBER_OF_VEHICLES': 'sum'\n",
    "# }).reset_index()\n",
    "\n",
    "combined_2024['DATE'] = pd.to_datetime(combined_2024['DATE_TIME']).dt.date\n",
    "combined_2024.drop(columns = ['DATE_TIME'], inplace = True)\n",
    "\n",
    "daily_data_2024 = combined_2024.groupby(['DATE', 'LATITUDE', 'LONGITUDE']).agg({\n",
    "    'AVERAGE_SPEED': 'mean',\n",
    "    'NUMBER_OF_VEHICLES': 'sum'\n",
    "}).reset_index()\n",
    "\n",
    "\n",
    "# print(daily_data.head())\n",
    "# print(jan_25.describe())\n",
    "# jan_25.info()\n",
    "\n",
    "print(daily_data_2024.head())\n",
    "print(daily_data_2024.describe())\n",
    "daily_data_2024.info()"
   ]
  },
  {
   "cell_type": "code",
   "execution_count": 20,
   "metadata": {},
   "outputs": [],
   "source": [
    "import pandas as pd\n",
    "import geopandas as gpd\n",
    "from shapely.geometry import Point\n",
    "\n",
    "districts = gpd.read_file(\"../data/istanbul-districts.json\") \n",
    "\n",
    "points = gpd.GeoDataFrame(\n",
    "    daily_data_2024,\n",
    "    geometry=gpd.points_from_xy(daily_data_2024[\"LONGITUDE\"], daily_data_2024[\"LATITUDE\"]),\n",
    "    crs=\"EPSG:4326\"\n",
    ")\n",
    "\n",
    "points_with_district = gpd.sjoin(\n",
    "    points,\n",
    "    districts[[\"name\", \"geometry\"]].rename(columns={\"name\": \"DISTRICT\"}),\n",
    "    how=\"left\",\n",
    "    predicate=\"within\"\n",
    ")\n",
    "\n",
    "daily_data_2024[\"DISTRICT\"] = points_with_district[\"DISTRICT\"]"
   ]
  },
  {
   "cell_type": "code",
   "execution_count": 21,
   "metadata": {},
   "outputs": [
    {
     "data": {
      "text/html": [
       "<div>\n",
       "<style scoped>\n",
       "    .dataframe tbody tr th:only-of-type {\n",
       "        vertical-align: middle;\n",
       "    }\n",
       "\n",
       "    .dataframe tbody tr th {\n",
       "        vertical-align: top;\n",
       "    }\n",
       "\n",
       "    .dataframe thead th {\n",
       "        text-align: right;\n",
       "    }\n",
       "</style>\n",
       "<table border=\"1\" class=\"dataframe\">\n",
       "  <thead>\n",
       "    <tr style=\"text-align: right;\">\n",
       "      <th></th>\n",
       "      <th>DATE</th>\n",
       "      <th>LATITUDE</th>\n",
       "      <th>LONGITUDE</th>\n",
       "      <th>AVERAGE_SPEED</th>\n",
       "      <th>NUMBER_OF_VEHICLES</th>\n",
       "      <th>DISTRICT</th>\n",
       "    </tr>\n",
       "  </thead>\n",
       "  <tbody>\n",
       "    <tr>\n",
       "      <th>0</th>\n",
       "      <td>2024-01-01</td>\n",
       "      <td>40.767517</td>\n",
       "      <td>29.426880</td>\n",
       "      <td>36.166667</td>\n",
       "      <td>400</td>\n",
       "      <td>NaN</td>\n",
       "    </tr>\n",
       "    <tr>\n",
       "      <th>1</th>\n",
       "      <td>2024-01-01</td>\n",
       "      <td>40.773010</td>\n",
       "      <td>29.415894</td>\n",
       "      <td>63.166667</td>\n",
       "      <td>143</td>\n",
       "      <td>NaN</td>\n",
       "    </tr>\n",
       "    <tr>\n",
       "      <th>2</th>\n",
       "      <td>2024-01-01</td>\n",
       "      <td>40.773010</td>\n",
       "      <td>29.426880</td>\n",
       "      <td>53.750000</td>\n",
       "      <td>449</td>\n",
       "      <td>NaN</td>\n",
       "    </tr>\n",
       "    <tr>\n",
       "      <th>3</th>\n",
       "      <td>2024-01-01</td>\n",
       "      <td>40.778503</td>\n",
       "      <td>29.415894</td>\n",
       "      <td>64.291667</td>\n",
       "      <td>416</td>\n",
       "      <td>NaN</td>\n",
       "    </tr>\n",
       "    <tr>\n",
       "      <th>4</th>\n",
       "      <td>2024-01-01</td>\n",
       "      <td>40.783997</td>\n",
       "      <td>29.415894</td>\n",
       "      <td>54.083333</td>\n",
       "      <td>1674</td>\n",
       "      <td>NaN</td>\n",
       "    </tr>\n",
       "  </tbody>\n",
       "</table>\n",
       "</div>"
      ],
      "text/plain": [
       "         DATE   LATITUDE  LONGITUDE  AVERAGE_SPEED  NUMBER_OF_VEHICLES  \\\n",
       "0  2024-01-01  40.767517  29.426880      36.166667                 400   \n",
       "1  2024-01-01  40.773010  29.415894      63.166667                 143   \n",
       "2  2024-01-01  40.773010  29.426880      53.750000                 449   \n",
       "3  2024-01-01  40.778503  29.415894      64.291667                 416   \n",
       "4  2024-01-01  40.783997  29.415894      54.083333                1674   \n",
       "\n",
       "  DISTRICT  \n",
       "0      NaN  \n",
       "1      NaN  \n",
       "2      NaN  \n",
       "3      NaN  \n",
       "4      NaN  "
      ]
     },
     "execution_count": 21,
     "metadata": {},
     "output_type": "execute_result"
    }
   ],
   "source": [
    "daily_data_2024.head()"
   ]
  },
  {
   "cell_type": "code",
   "execution_count": 22,
   "metadata": {},
   "outputs": [],
   "source": [
    "code_dict = {\n",
    "    \"Adalar\": 0,\n",
    "    \"Arnavutköy\": 1,\n",
    "    \"Ataşehir\": 2,\n",
    "    \"Avcılar\": 3,\n",
    "    \"Bağcılar\": 4,\n",
    "    \"Bahçelievler\": 5,\n",
    "    \"Bakırköy\": 6,\n",
    "    \"Başakşehir\": 7,\n",
    "    \"Bayrampaşa\": 8,\n",
    "    \"Beşiktaş\": 9,\n",
    "    \"Beykoz\": 10,\n",
    "    \"Beylikdüzü\": 11,\n",
    "    \"Beyoğlu\": 12,\n",
    "    \"Çatalca\": 13,\n",
    "    \"Çekmeköy\": 14,\n",
    "    \"Esenler\": 15,\n",
    "    \"Esenyurt\": 16,\n",
    "    \"Eyüpsultan\": 17,\n",
    "    \"Fatih\": 18,\n",
    "    \"Gaziosmanpaşa\": 19,\n",
    "    \"Güngören\": 20,\n",
    "    \"Kadıköy\": 21,\n",
    "    \"Kağıthane\": 22,\n",
    "    \"Kartal\": 23,\n",
    "    \"Küçükçekmece\": 24,\n",
    "    \"Maltepe\": 25,\n",
    "    \"Pendik\": 26,\n",
    "    \"Sancaktepe\": 27,\n",
    "    \"Sarıyer\": 28,\n",
    "    \"Şile\": 29,\n",
    "    \"Şişli\": 30,\n",
    "    \"Sultanbeyli\": 31,\n",
    "    \"Sultangazi\": 32,\n",
    "    \"Tuzla\": 33,\n",
    "    \"Ümraniye\": 34,\n",
    "    \"Üsküdar\": 35,\n",
    "    \"Zeytinburnu\": 36,\n",
    "    \"Silivri\": 37,\n",
    "    \"Çekmeköy\": 38\n",
    "}"
   ]
  },
  {
   "cell_type": "code",
   "execution_count": 23,
   "metadata": {},
   "outputs": [],
   "source": [
    "daily_data_2024[\"DISTRICT\"] = daily_data_2024[\"DISTRICT\"].apply(lambda x: code_dict[x] if x in code_dict else None).astype(\"Int64\")\n",
    "\n",
    "daily_data_2024.dropna(subset=[\"DISTRICT\"], inplace=True)"
   ]
  },
  {
   "cell_type": "code",
   "execution_count": 24,
   "metadata": {},
   "outputs": [],
   "source": [
    "daily_data_2024.head()\n",
    "daily_data_2024.drop(columns=[\"LATITUDE\", \"LONGITUDE\"], inplace=True)"
   ]
  },
  {
   "cell_type": "code",
   "execution_count": 25,
   "metadata": {},
   "outputs": [
    {
     "name": "stdout",
     "output_type": "stream",
     "text": [
      "<class 'pandas.core.frame.DataFrame'>\n",
      "Index: 751311 entries, 20 to 836056\n",
      "Data columns (total 4 columns):\n",
      " #   Column              Non-Null Count   Dtype  \n",
      "---  ------              --------------   -----  \n",
      " 0   DATE                751311 non-null  object \n",
      " 1   AVERAGE_SPEED       751311 non-null  float64\n",
      " 2   NUMBER_OF_VEHICLES  751311 non-null  int64  \n",
      " 3   DISTRICT            751311 non-null  Int64  \n",
      "dtypes: Int64(1), float64(1), int64(1), object(1)\n",
      "memory usage: 29.4+ MB\n"
     ]
    }
   ],
   "source": [
    "daily_data_2024.info()"
   ]
  },
  {
   "cell_type": "code",
   "execution_count": 26,
   "metadata": {},
   "outputs": [
    {
     "data": {
      "text/html": [
       "<div>\n",
       "<style scoped>\n",
       "    .dataframe tbody tr th:only-of-type {\n",
       "        vertical-align: middle;\n",
       "    }\n",
       "\n",
       "    .dataframe tbody tr th {\n",
       "        vertical-align: top;\n",
       "    }\n",
       "\n",
       "    .dataframe thead th {\n",
       "        text-align: right;\n",
       "    }\n",
       "</style>\n",
       "<table border=\"1\" class=\"dataframe\">\n",
       "  <thead>\n",
       "    <tr style=\"text-align: right;\">\n",
       "      <th></th>\n",
       "      <th>DATE</th>\n",
       "      <th>AVERAGE_SPEED</th>\n",
       "      <th>NUMBER_OF_VEHICLES</th>\n",
       "      <th>DISTRICT</th>\n",
       "    </tr>\n",
       "  </thead>\n",
       "  <tbody>\n",
       "    <tr>\n",
       "      <th>20</th>\n",
       "      <td>2024-01-01</td>\n",
       "      <td>19.666667</td>\n",
       "      <td>363</td>\n",
       "      <td>33</td>\n",
       "    </tr>\n",
       "    <tr>\n",
       "      <th>22</th>\n",
       "      <td>2024-01-01</td>\n",
       "      <td>44.500000</td>\n",
       "      <td>899</td>\n",
       "      <td>33</td>\n",
       "    </tr>\n",
       "    <tr>\n",
       "      <th>23</th>\n",
       "      <td>2024-01-01</td>\n",
       "      <td>45.708333</td>\n",
       "      <td>1169</td>\n",
       "      <td>33</td>\n",
       "    </tr>\n",
       "    <tr>\n",
       "      <th>25</th>\n",
       "      <td>2024-01-01</td>\n",
       "      <td>75.083333</td>\n",
       "      <td>2613</td>\n",
       "      <td>33</td>\n",
       "    </tr>\n",
       "    <tr>\n",
       "      <th>27</th>\n",
       "      <td>2024-01-01</td>\n",
       "      <td>45.916667</td>\n",
       "      <td>1167</td>\n",
       "      <td>33</td>\n",
       "    </tr>\n",
       "  </tbody>\n",
       "</table>\n",
       "</div>"
      ],
      "text/plain": [
       "          DATE  AVERAGE_SPEED  NUMBER_OF_VEHICLES  DISTRICT\n",
       "20  2024-01-01      19.666667                 363        33\n",
       "22  2024-01-01      44.500000                 899        33\n",
       "23  2024-01-01      45.708333                1169        33\n",
       "25  2024-01-01      75.083333                2613        33\n",
       "27  2024-01-01      45.916667                1167        33"
      ]
     },
     "execution_count": 26,
     "metadata": {},
     "output_type": "execute_result"
    }
   ],
   "source": [
    "daily_data_2024.head()"
   ]
  },
  {
   "cell_type": "code",
   "execution_count": 27,
   "metadata": {},
   "outputs": [
    {
     "name": "stdout",
     "output_type": "stream",
     "text": [
      "       NUMBER_OF_VEHICLES  AVERAGE_SPEED\n",
      "count       751311.000000  751311.000000\n",
      "mean          2525.545626      55.814378\n",
      "std           2867.753893      24.961059\n",
      "min              1.000000       1.000000\n",
      "25%            578.000000      33.125000\n",
      "50%           1531.000000      52.291667\n",
      "75%           3364.000000      78.875000\n",
      "max          31379.000000     192.000000\n"
     ]
    }
   ],
   "source": [
    "print(daily_data_2024[['NUMBER_OF_VEHICLES', 'AVERAGE_SPEED']].describe())"
   ]
  },
  {
   "cell_type": "code",
   "execution_count": 28,
   "metadata": {},
   "outputs": [],
   "source": [
    "q_low,  q_hi   = 0.05, 0.95\n",
    "nv_lo, nv_hi   = daily_data_2024[\"NUMBER_OF_VEHICLES\"].quantile([q_low, q_hi])\n",
    "sp_lo, sp_hi   = daily_data_2024[\"AVERAGE_SPEED\"].quantile([q_low, q_hi])\n",
    "\n",
    "daily_data_2024[\"v_norm\"]   = ((daily_data_2024[\"NUMBER_OF_VEHICLES\"] - nv_lo) / (nv_hi - nv_lo)).clip(0, 1)\n",
    "daily_data_2024[\"s_norm\"]   = ((daily_data_2024[\"AVERAGE_SPEED\"]     - sp_lo) / (sp_hi - sp_lo)).clip(0, 1)"
   ]
  },
  {
   "cell_type": "code",
   "execution_count": 29,
   "metadata": {},
   "outputs": [],
   "source": [
    "daily_data_2024[\"s_inv\"] = 1 - daily_data_2024[\"s_norm\"]"
   ]
  },
  {
   "cell_type": "code",
   "execution_count": 30,
   "metadata": {},
   "outputs": [],
   "source": [
    "daily_data_2024[\"congestion\"] = 0.5*daily_data_2024[\"v_norm\"] + 0.5*daily_data_2024[\"s_inv\"]"
   ]
  },
  {
   "cell_type": "code",
   "execution_count": 31,
   "metadata": {},
   "outputs": [],
   "source": [
    "daily_data_2024[\"congestion\"] = daily_data_2024[\"congestion\"].clip(0, 1)"
   ]
  },
  {
   "cell_type": "code",
   "execution_count": 32,
   "metadata": {},
   "outputs": [],
   "source": [
    "daily_data_2024.head()\n",
    "daily_data_2024.drop(columns=[\"NUMBER_OF_VEHICLES\", \"AVERAGE_SPEED\", \"v_norm\", \"s_norm\", \"s_inv\"], inplace=True)"
   ]
  },
  {
   "cell_type": "code",
   "execution_count": 20,
   "metadata": {},
   "outputs": [
    {
     "data": {
      "text/html": [
       "<div>\n",
       "<style scoped>\n",
       "    .dataframe tbody tr th:only-of-type {\n",
       "        vertical-align: middle;\n",
       "    }\n",
       "\n",
       "    .dataframe tbody tr th {\n",
       "        vertical-align: top;\n",
       "    }\n",
       "\n",
       "    .dataframe thead th {\n",
       "        text-align: right;\n",
       "    }\n",
       "</style>\n",
       "<table border=\"1\" class=\"dataframe\">\n",
       "  <thead>\n",
       "    <tr style=\"text-align: right;\">\n",
       "      <th></th>\n",
       "      <th>DATE</th>\n",
       "      <th>DISTRICT</th>\n",
       "      <th>congestion</th>\n",
       "    </tr>\n",
       "  </thead>\n",
       "  <tbody>\n",
       "    <tr>\n",
       "      <th>20</th>\n",
       "      <td>2024-01-01</td>\n",
       "      <td>33</td>\n",
       "      <td>0.515931</td>\n",
       "    </tr>\n",
       "    <tr>\n",
       "      <th>22</th>\n",
       "      <td>2024-01-01</td>\n",
       "      <td>33</td>\n",
       "      <td>0.390578</td>\n",
       "    </tr>\n",
       "    <tr>\n",
       "      <th>23</th>\n",
       "      <td>2024-01-01</td>\n",
       "      <td>33</td>\n",
       "      <td>0.397811</td>\n",
       "    </tr>\n",
       "    <tr>\n",
       "      <th>25</th>\n",
       "      <td>2024-01-01</td>\n",
       "      <td>33</td>\n",
       "      <td>0.279197</td>\n",
       "    </tr>\n",
       "    <tr>\n",
       "      <th>27</th>\n",
       "      <td>2024-01-01</td>\n",
       "      <td>33</td>\n",
       "      <td>0.396265</td>\n",
       "    </tr>\n",
       "  </tbody>\n",
       "</table>\n",
       "</div>"
      ],
      "text/plain": [
       "          DATE  DISTRICT  congestion\n",
       "20  2024-01-01        33    0.515931\n",
       "22  2024-01-01        33    0.390578\n",
       "23  2024-01-01        33    0.397811\n",
       "25  2024-01-01        33    0.279197\n",
       "27  2024-01-01        33    0.396265"
      ]
     },
     "execution_count": 20,
     "metadata": {},
     "output_type": "execute_result"
    }
   ],
   "source": [
    "daily_data_2024.head()"
   ]
  },
  {
   "cell_type": "code",
   "execution_count": 21,
   "metadata": {},
   "outputs": [
    {
     "data": {
      "text/html": [
       "<div>\n",
       "<style scoped>\n",
       "    .dataframe tbody tr th:only-of-type {\n",
       "        vertical-align: middle;\n",
       "    }\n",
       "\n",
       "    .dataframe tbody tr th {\n",
       "        vertical-align: top;\n",
       "    }\n",
       "\n",
       "    .dataframe thead th {\n",
       "        text-align: right;\n",
       "    }\n",
       "</style>\n",
       "<table border=\"1\" class=\"dataframe\">\n",
       "  <thead>\n",
       "    <tr style=\"text-align: right;\">\n",
       "      <th></th>\n",
       "      <th>DATE</th>\n",
       "      <th>DISTRICT</th>\n",
       "      <th>congestion</th>\n",
       "    </tr>\n",
       "  </thead>\n",
       "  <tbody>\n",
       "    <tr>\n",
       "      <th>0</th>\n",
       "      <td>2024-01-01</td>\n",
       "      <td>1</td>\n",
       "      <td>0.213444</td>\n",
       "    </tr>\n",
       "    <tr>\n",
       "      <th>1</th>\n",
       "      <td>2024-01-01</td>\n",
       "      <td>2</td>\n",
       "      <td>0.467881</td>\n",
       "    </tr>\n",
       "    <tr>\n",
       "      <th>2</th>\n",
       "      <td>2024-01-01</td>\n",
       "      <td>3</td>\n",
       "      <td>0.438534</td>\n",
       "    </tr>\n",
       "    <tr>\n",
       "      <th>3</th>\n",
       "      <td>2024-01-01</td>\n",
       "      <td>4</td>\n",
       "      <td>0.514486</td>\n",
       "    </tr>\n",
       "    <tr>\n",
       "      <th>4</th>\n",
       "      <td>2024-01-01</td>\n",
       "      <td>5</td>\n",
       "      <td>0.517668</td>\n",
       "    </tr>\n",
       "  </tbody>\n",
       "</table>\n",
       "</div>"
      ],
      "text/plain": [
       "         DATE  DISTRICT  congestion\n",
       "0  2024-01-01         1    0.213444\n",
       "1  2024-01-01         2    0.467881\n",
       "2  2024-01-01         3    0.438534\n",
       "3  2024-01-01         4    0.514486\n",
       "4  2024-01-01         5    0.517668"
      ]
     },
     "execution_count": 21,
     "metadata": {},
     "output_type": "execute_result"
    }
   ],
   "source": [
    "average_congestion = daily_data_2024.groupby(['DATE', 'DISTRICT'])['congestion'].mean().reset_index()\n",
    "average_congestion.head()"
   ]
  },
  {
   "cell_type": "code",
   "execution_count": 22,
   "metadata": {},
   "outputs": [
    {
     "data": {
      "image/png": "[encoded data removed]",
      "text/plain": [
       "<Figure size 640x480 with 1 Axes>"
      ]
     },
     "metadata": {},
     "output_type": "display_data"
    }
   ],
   "source": [
    "import seaborn as sns\n",
    "\n",
    "import matplotlib.pyplot as plt\n",
    "\n",
    "sns.histplot(daily_data_2024[\"congestion\"], kde=True, bins=30)\n",
    "plt.title(\"Distribution of Congestion Data\")\n",
    "plt.xlabel(\"Congestion\")\n",
    "plt.ylabel(\"Frequency\")\n",
    "plt.show()"
   ]
  },
  {
   "cell_type": "code",
   "execution_count": 23,
   "metadata": {},
   "outputs": [
    {
     "name": "stdout",
     "output_type": "stream",
     "text": [
      "<class 'pandas.core.frame.DataFrame'>\n",
      "Index: 751311 entries, 20 to 836056\n",
      "Data columns (total 3 columns):\n",
      " #   Column      Non-Null Count   Dtype  \n",
      "---  ------      --------------   -----  \n",
      " 0   DATE        751311 non-null  object \n",
      " 1   DISTRICT    751311 non-null  Int64  \n",
      " 2   congestion  751311 non-null  float64\n",
      "dtypes: Int64(1), float64(1), object(1)\n",
      "memory usage: 23.6+ MB\n"
     ]
    }
   ],
   "source": [
    "daily_data_2024.info()"
   ]
  },
  {
   "cell_type": "code",
   "execution_count": 24,
   "metadata": {},
   "outputs": [],
   "source": [
    "daily_data_2024.to_csv(\"../data/traffic_density_2024.csv\", index=False)"
   ]
  }
 ],
 "metadata": {
  "kernelspec": {
   "display_name": "base",
   "language": "python",
   "name": "python3"
  },
  "language_info": {
   "codemirror_mode": {
    "name": "ipython",
    "version": 3
   },
   "file_extension": ".py",
   "mimetype": "text/x-python",
   "name": "python",
   "nbconvert_exporter": "python",
   "pygments_lexer": "ipython3",
   "version": "3.12.3"
  }
 },
 "nbformat": 4,
 "nbformat_minor": 2
}

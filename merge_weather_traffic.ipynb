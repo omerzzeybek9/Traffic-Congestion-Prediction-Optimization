{
 "cells": [
  {
   "cell_type": "code",
   "execution_count": 17,
   "id": "b6bee13b",
   "metadata": {},
   "outputs": [],
   "source": [
    "import pandas as pd"
   ]
  },
  {
   "cell_type": "code",
   "execution_count": 18,
   "id": "bb3f469d",
   "metadata": {},
   "outputs": [],
   "source": [
    "traffic_data = pd.read_csv(\"data/traffic_density_2024.csv\")\n",
    "weather_data = pd.read_csv(\"data/weather_data_cleaned.csv\")"
   ]
  },
  {
   "cell_type": "code",
   "execution_count": 19,
   "id": "79559540",
   "metadata": {},
   "outputs": [
    {
     "data": {
      "text/html": [
       "<div>\n",
       "<style scoped>\n",
       "    .dataframe tbody tr th:only-of-type {\n",
       "        vertical-align: middle;\n",
       "    }\n",
       "\n",
       "    .dataframe tbody tr th {\n",
       "        vertical-align: top;\n",
       "    }\n",
       "\n",
       "    .dataframe thead th {\n",
       "        text-align: right;\n",
       "    }\n",
       "</style>\n",
       "<table border=\"1\" class=\"dataframe\">\n",
       "  <thead>\n",
       "    <tr style=\"text-align: right;\">\n",
       "      <th></th>\n",
       "      <th>DATE</th>\n",
       "      <th>DISTRICT</th>\n",
       "      <th>congestion</th>\n",
       "    </tr>\n",
       "  </thead>\n",
       "  <tbody>\n",
       "    <tr>\n",
       "      <th>0</th>\n",
       "      <td>2024-01-01</td>\n",
       "      <td>33</td>\n",
       "      <td>0.515931</td>\n",
       "    </tr>\n",
       "    <tr>\n",
       "      <th>1</th>\n",
       "      <td>2024-01-01</td>\n",
       "      <td>33</td>\n",
       "      <td>0.390578</td>\n",
       "    </tr>\n",
       "    <tr>\n",
       "      <th>2</th>\n",
       "      <td>2024-01-01</td>\n",
       "      <td>33</td>\n",
       "      <td>0.397811</td>\n",
       "    </tr>\n",
       "    <tr>\n",
       "      <th>3</th>\n",
       "      <td>2024-01-01</td>\n",
       "      <td>33</td>\n",
       "      <td>0.279197</td>\n",
       "    </tr>\n",
       "    <tr>\n",
       "      <th>4</th>\n",
       "      <td>2024-01-01</td>\n",
       "      <td>33</td>\n",
       "      <td>0.396265</td>\n",
       "    </tr>\n",
       "    <tr>\n",
       "      <th>...</th>\n",
       "      <td>...</td>\n",
       "      <td>...</td>\n",
       "      <td>...</td>\n",
       "    </tr>\n",
       "    <tr>\n",
       "      <th>751306</th>\n",
       "      <td>2024-12-31</td>\n",
       "      <td>1</td>\n",
       "      <td>0.095097</td>\n",
       "    </tr>\n",
       "    <tr>\n",
       "      <th>751307</th>\n",
       "      <td>2024-12-31</td>\n",
       "      <td>1</td>\n",
       "      <td>0.090218</td>\n",
       "    </tr>\n",
       "    <tr>\n",
       "      <th>751308</th>\n",
       "      <td>2024-12-31</td>\n",
       "      <td>1</td>\n",
       "      <td>0.065979</td>\n",
       "    </tr>\n",
       "    <tr>\n",
       "      <th>751309</th>\n",
       "      <td>2024-12-31</td>\n",
       "      <td>1</td>\n",
       "      <td>0.053566</td>\n",
       "    </tr>\n",
       "    <tr>\n",
       "      <th>751310</th>\n",
       "      <td>2024-12-31</td>\n",
       "      <td>1</td>\n",
       "      <td>0.067585</td>\n",
       "    </tr>\n",
       "  </tbody>\n",
       "</table>\n",
       "<p>751311 rows × 3 columns</p>\n",
       "</div>"
      ],
      "text/plain": [
       "              DATE  DISTRICT  congestion\n",
       "0       2024-01-01        33    0.515931\n",
       "1       2024-01-01        33    0.390578\n",
       "2       2024-01-01        33    0.397811\n",
       "3       2024-01-01        33    0.279197\n",
       "4       2024-01-01        33    0.396265\n",
       "...            ...       ...         ...\n",
       "751306  2024-12-31         1    0.095097\n",
       "751307  2024-12-31         1    0.090218\n",
       "751308  2024-12-31         1    0.065979\n",
       "751309  2024-12-31         1    0.053566\n",
       "751310  2024-12-31         1    0.067585\n",
       "\n",
       "[751311 rows x 3 columns]"
      ]
     },
     "execution_count": 19,
     "metadata": {},
     "output_type": "execute_result"
    }
   ],
   "source": [
    "traffic_data"
   ]
  },
  {
   "cell_type": "code",
   "execution_count": 20,
   "id": "545ca6bb",
   "metadata": {},
   "outputs": [
    {
     "data": {
      "text/html": [
       "<div>\n",
       "<style scoped>\n",
       "    .dataframe tbody tr th:only-of-type {\n",
       "        vertical-align: middle;\n",
       "    }\n",
       "\n",
       "    .dataframe tbody tr th {\n",
       "        vertical-align: top;\n",
       "    }\n",
       "\n",
       "    .dataframe thead th {\n",
       "        text-align: right;\n",
       "    }\n",
       "</style>\n",
       "<table border=\"1\" class=\"dataframe\">\n",
       "  <thead>\n",
       "    <tr style=\"text-align: right;\">\n",
       "      <th></th>\n",
       "      <th>date</th>\n",
       "      <th>weather condition</th>\n",
       "    </tr>\n",
       "  </thead>\n",
       "  <tbody>\n",
       "    <tr>\n",
       "      <th>0</th>\n",
       "      <td>2020-01-01</td>\n",
       "      <td>2</td>\n",
       "    </tr>\n",
       "    <tr>\n",
       "      <th>1</th>\n",
       "      <td>2020-01-02</td>\n",
       "      <td>2</td>\n",
       "    </tr>\n",
       "    <tr>\n",
       "      <th>2</th>\n",
       "      <td>2020-01-03</td>\n",
       "      <td>2</td>\n",
       "    </tr>\n",
       "    <tr>\n",
       "      <th>3</th>\n",
       "      <td>2020-01-04</td>\n",
       "      <td>1</td>\n",
       "    </tr>\n",
       "    <tr>\n",
       "      <th>4</th>\n",
       "      <td>2020-01-05</td>\n",
       "      <td>2</td>\n",
       "    </tr>\n",
       "  </tbody>\n",
       "</table>\n",
       "</div>"
      ],
      "text/plain": [
       "         date  weather condition\n",
       "0  2020-01-01                  2\n",
       "1  2020-01-02                  2\n",
       "2  2020-01-03                  2\n",
       "3  2020-01-04                  1\n",
       "4  2020-01-05                  2"
      ]
     },
     "execution_count": 20,
     "metadata": {},
     "output_type": "execute_result"
    }
   ],
   "source": [
    "weather_data.head()"
   ]
  },
  {
   "cell_type": "code",
   "execution_count": 21,
   "id": "a3c4f216",
   "metadata": {},
   "outputs": [],
   "source": [
    "traffic_data[\"DATE\"] = pd.to_datetime(traffic_data[\"DATE\"])\n",
    "weather_data[\"date\"] = pd.to_datetime(weather_data[\"date\"])\n",
    "\n",
    "traffic_data_2024 = traffic_data[traffic_data[\"DATE\"].dt.year == 2024]\n",
    "weather_data_2024 = weather_data[weather_data[\"date\"].dt.year == 2024]"
   ]
  },
  {
   "cell_type": "code",
   "execution_count": 22,
   "id": "f4bdf2df",
   "metadata": {},
   "outputs": [],
   "source": [
    "weather_data_2024_renamed = weather_data_2024.rename(columns={\"date\": \"DATE\"})\n",
    "weather_data_2024_renamed = weather_data_2024_renamed.rename(columns={\"weather condition\": \"weather_condition\"})\n",
    "\n",
    "merged_df = pd.merge(traffic_data_2024, weather_data_2024_renamed, on=\"DATE\", how=\"inner\")"
   ]
  },
  {
   "cell_type": "code",
   "execution_count": 23,
   "id": "9080ee42",
   "metadata": {},
   "outputs": [],
   "source": [
    "merged_df.to_csv(\"data/merged_traffic_weather_2024.csv\", index=False)"
   ]
  }
 ],
 "metadata": {
  "kernelspec": {
   "display_name": "base",
   "language": "python",
   "name": "python3"
  },
  "language_info": {
   "codemirror_mode": {
    "name": "ipython",
    "version": 3
   },
   "file_extension": ".py",
   "mimetype": "text/x-python",
   "name": "python",
   "nbconvert_exporter": "python",
   "pygments_lexer": "ipython3",
   "version": "3.12.3"
  }
 },
 "nbformat": 4,
 "nbformat_minor": 5
}
